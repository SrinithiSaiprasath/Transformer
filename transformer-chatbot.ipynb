{
 "cells": [
  {
   "cell_type": "code",
   "execution_count": 1,
   "id": "8f111b1a",
   "metadata": {
    "_cell_guid": "ee8d5770-86a2-436b-8d65-c1231df87ddd",
    "_uuid": "194890e2-74e2-4a64-8d3f-1619c07eaed7",
    "collapsed": false,
    "execution": {
     "iopub.execute_input": "2024-08-02T10:25:10.509311Z",
     "iopub.status.busy": "2024-08-02T10:25:10.508882Z",
     "iopub.status.idle": "2024-08-02T10:25:22.748177Z",
     "shell.execute_reply": "2024-08-02T10:25:22.746732Z"
    },
    "jupyter": {
     "outputs_hidden": false
    },
    "papermill": {
     "duration": 12.259033,
     "end_time": "2024-08-02T10:25:22.751367",
     "exception": false,
     "start_time": "2024-08-02T10:25:10.492334",
     "status": "completed"
    },
    "tags": []
   },
   "outputs": [
    {
     "name": "stderr",
     "output_type": "stream",
     "text": [
      "/opt/conda/lib/python3.10/site-packages/tensorflow_io/python/ops/__init__.py:98: UserWarning: unable to load libtensorflow_io_plugins.so: unable to open file: libtensorflow_io_plugins.so, from paths: ['/opt/conda/lib/python3.10/site-packages/tensorflow_io/python/ops/libtensorflow_io_plugins.so']\n",
      "caused by: ['/opt/conda/lib/python3.10/site-packages/tensorflow_io/python/ops/libtensorflow_io_plugins.so: undefined symbol: _ZN3tsl6StatusC1EN10tensorflow5error4CodeESt17basic_string_viewIcSt11char_traitsIcEENS_14SourceLocationE']\n",
      "  warnings.warn(f\"unable to load libtensorflow_io_plugins.so: {e}\")\n",
      "/opt/conda/lib/python3.10/site-packages/tensorflow_io/python/ops/__init__.py:104: UserWarning: file system plugins are not loaded: unable to open file: libtensorflow_io.so, from paths: ['/opt/conda/lib/python3.10/site-packages/tensorflow_io/python/ops/libtensorflow_io.so']\n",
      "caused by: ['/opt/conda/lib/python3.10/site-packages/tensorflow_io/python/ops/libtensorflow_io.so: undefined symbol: _ZTVN10tensorflow13GcsFileSystemE']\n",
      "  warnings.warn(f\"file system plugins are not loaded: {e}\")\n"
     ]
    }
   ],
   "source": [
    "import os\n",
    "import re\n",
    "import numpy as np\n",
    "import pandas as pd\n",
    "from time import time\n",
    "import matplotlib.pyplot as plt\n",
    "import tensorflow as tf\n",
    "\n",
    "#!pip install tensorflow-datasets==1.2.0\n",
    "import tensorflow_datasets as tfds"
   ]
  },
  {
   "cell_type": "code",
   "execution_count": 2,
   "id": "c12f01f9",
   "metadata": {
    "_cell_guid": "37b0c513-038e-46c2-b8ea-739f5bdf2f2a",
    "_uuid": "1b612605-c573-4b08-a911-be9c99678e1f",
    "collapsed": false,
    "execution": {
     "iopub.execute_input": "2024-08-02T10:25:22.777424Z",
     "iopub.status.busy": "2024-08-02T10:25:22.776584Z",
     "iopub.status.idle": "2024-08-02T10:25:22.798252Z",
     "shell.execute_reply": "2024-08-02T10:25:22.796826Z"
    },
    "jupyter": {
     "outputs_hidden": false
    },
    "papermill": {
     "duration": 0.037502,
     "end_time": "2024-08-02T10:25:22.800842",
     "exception": false,
     "start_time": "2024-08-02T10:25:22.763340",
     "status": "completed"
    },
    "tags": []
   },
   "outputs": [
    {
     "name": "stdout",
     "output_type": "stream",
     "text": [
      "REPLICAS: 1\n"
     ]
    }
   ],
   "source": [
    "try:\n",
    "    tpu = tf.distribute.cluster_resolver.TPUClusterResolver()\n",
    "    print('Running on TPU {}'.format(tpu.cluster_spec().as_dict()['worker']))\n",
    "except ValueError:\n",
    "    tpu = None\n",
    "\n",
    "if tpu:\n",
    "    tf.config.experimental_connect_to_cluster(tpu)\n",
    "    tf.tpu.experimental.initialize_tpu_system(tpu)\n",
    "    strategy = tf.distribute.experimental.TPUStrategy(tpu)\n",
    "else:\n",
    "    strategy = tf.distribute.get_strategy()\n",
    "\n",
    "print(\"REPLICAS: {}\".format(strategy.num_replicas_in_sync))"
   ]
  },
  {
   "cell_type": "code",
   "execution_count": 3,
   "id": "e3cf4d72",
   "metadata": {
    "_cell_guid": "171f0281-42e9-4d0a-9aa8-17a1a1188130",
    "_uuid": "9afbd0f6-da75-4187-aeba-c4a2f435b098",
    "collapsed": false,
    "execution": {
     "iopub.execute_input": "2024-08-02T10:25:22.826753Z",
     "iopub.status.busy": "2024-08-02T10:25:22.826265Z",
     "iopub.status.idle": "2024-08-02T10:25:22.834071Z",
     "shell.execute_reply": "2024-08-02T10:25:22.832918Z"
    },
    "jupyter": {
     "outputs_hidden": false
    },
    "papermill": {
     "duration": 0.023895,
     "end_time": "2024-08-02T10:25:22.836864",
     "exception": false,
     "start_time": "2024-08-02T10:25:22.812969",
     "status": "completed"
    },
    "tags": []
   },
   "outputs": [
    {
     "name": "stdout",
     "output_type": "stream",
     "text": [
      "Done\n"
     ]
    }
   ],
   "source": [
    "# Maximum sentence length\n",
    "MAX_LENGTH = 100\n",
    "\n",
    "# For tf.data.Dataset\n",
    "BATCH_SIZE = int(64 * strategy.num_replicas_in_sync)\n",
    "# BATCH_SIZE = 64\n",
    "BUFFER_SIZE = 20000\n",
    "\n",
    "# For Transformer\n",
    "NUM_LAYERS = 2 #6\n",
    "D_MODEL = 256 #512\n",
    "NUM_HEADS = 8\n",
    "UNITS = 512 #2048\n",
    "DROPOUT = 0.1\n",
    "\n",
    "EPOCHS = 500\n",
    "print(\"Done\")"
   ]
  },
  {
   "cell_type": "code",
   "execution_count": 4,
   "id": "33abaf3f",
   "metadata": {
    "_cell_guid": "5cb3834f-2a45-42dc-8742-310cc32e9f2f",
    "_uuid": "08b99c9a-cffd-479b-88ec-b6f10dd2aeec",
    "collapsed": false,
    "execution": {
     "iopub.execute_input": "2024-08-02T10:25:22.862636Z",
     "iopub.status.busy": "2024-08-02T10:25:22.862181Z",
     "iopub.status.idle": "2024-08-02T10:25:23.048732Z",
     "shell.execute_reply": "2024-08-02T10:25:23.047156Z"
    },
    "jupyter": {
     "outputs_hidden": false
    },
    "papermill": {
     "duration": 0.20254,
     "end_time": "2024-08-02T10:25:23.051634",
     "exception": false,
     "start_time": "2024-08-02T10:25:22.849094",
     "status": "completed"
    },
    "tags": []
   },
   "outputs": [
    {
     "name": "stdout",
     "output_type": "stream",
     "text": [
      "Done\n"
     ]
    }
   ],
   "source": [
    "def textPreprocess(input_text):\n",
    "\n",
    "  def removeAccents(input_text):\n",
    "      strange='ąćęłńóśżź'\n",
    "      ascii_replacements='acelnoszz'\n",
    "      translator=str.maketrans(strange,ascii_replacements)\n",
    "      return input_text.translate(translator)\n",
    "\n",
    "  def removeSpecial(input_text):\n",
    "      special='[^A-Za-z0-9 ]+'\n",
    "      return re.sub(special, '', input_text)\n",
    "\n",
    "  def removeTriplicated(input_text):\n",
    "      return re.compile(r'(.)\\1{2,}', re.IGNORECASE).sub(r'\\1', input_text)\n",
    "\n",
    "  return removeTriplicated(removeSpecial(removeAccents(input_text.lower())))\n",
    "\n",
    "\n",
    "df = pd.read_csv(\"/kaggle/input/3k-conversations-dataset-for-chatbot/Conversation.csv\")\n",
    "df['question'] = df['question'].apply(lambda x: textPreprocess(str(x)))\n",
    "df['answer'] = df['answer'].apply(lambda x: textPreprocess(str(x)))\n",
    "questions, answers = df['question'].tolist(), df['answer'].tolist()\n",
    "print(\"Done\")"
   ]
  },
  {
   "cell_type": "code",
   "execution_count": 5,
   "id": "9da0285b",
   "metadata": {
    "_cell_guid": "90173682-a41e-40b2-b98b-33d4895a9aae",
    "_uuid": "9f61674c-812a-4416-b29c-2255d9725405",
    "collapsed": false,
    "execution": {
     "iopub.execute_input": "2024-08-02T10:25:23.076772Z",
     "iopub.status.busy": "2024-08-02T10:25:23.076249Z",
     "iopub.status.idle": "2024-08-02T10:25:27.551162Z",
     "shell.execute_reply": "2024-08-02T10:25:27.549230Z"
    },
    "jupyter": {
     "outputs_hidden": false
    },
    "papermill": {
     "duration": 4.493194,
     "end_time": "2024-08-02T10:25:27.556361",
     "exception": false,
     "start_time": "2024-08-02T10:25:23.063167",
     "status": "completed"
    },
    "tags": []
   },
   "outputs": [
    {
     "name": "stdout",
     "output_type": "stream",
     "text": [
      "Done\n"
     ]
    }
   ],
   "source": [
    "# Build tokenizer using tfds for both questions and answers\n",
    "tokenizer = tfds.deprecated.text.SubwordTextEncoder.build_from_corpus(\n",
    "    questions + answers, target_vocab_size=2**13)\n",
    "\n",
    "# Define start and end token to indicate the start and end of a sentence\n",
    "START_TOKEN, END_TOKEN = [tokenizer.vocab_size], [tokenizer.vocab_size + 1]\n",
    "\n",
    "# Vocabulary size plus start and end token\n",
    "VOCAB_SIZE = tokenizer.vocab_size + 2\n",
    "print(\"Done\")"
   ]
  },
  {
   "cell_type": "code",
   "execution_count": 6,
   "id": "ae501a26",
   "metadata": {
    "_cell_guid": "0a525dda-e392-4103-8112-47651fe8ad36",
    "_uuid": "d2b66a99-35e5-42d0-a1ec-191962937b84",
    "collapsed": false,
    "execution": {
     "iopub.execute_input": "2024-08-02T10:25:27.585169Z",
     "iopub.status.busy": "2024-08-02T10:25:27.584743Z",
     "iopub.status.idle": "2024-08-02T10:25:27.879222Z",
     "shell.execute_reply": "2024-08-02T10:25:27.877483Z"
    },
    "jupyter": {
     "outputs_hidden": false
    },
    "papermill": {
     "duration": 0.311544,
     "end_time": "2024-08-02T10:25:27.882250",
     "exception": false,
     "start_time": "2024-08-02T10:25:27.570706",
     "status": "completed"
    },
    "tags": []
   },
   "outputs": [
    {
     "name": "stdout",
     "output_type": "stream",
     "text": [
      "Done\n"
     ]
    }
   ],
   "source": [
    "# Tokenize, filter and pad sentences\n",
    "def tokenize_and_filter(inputs, outputs):\n",
    "  tokenized_inputs, tokenized_outputs = [], []\n",
    "  \n",
    "  for (sentence1, sentence2) in zip(inputs, outputs):\n",
    "    # tokenize sentence\n",
    "    sentence1 = START_TOKEN + tokenizer.encode(sentence1) + END_TOKEN\n",
    "    sentence2 = START_TOKEN + tokenizer.encode(sentence2) + END_TOKEN\n",
    "    # check tokenized sentence max length\n",
    "    if len(sentence1) <= MAX_LENGTH and len(sentence2) <= MAX_LENGTH:\n",
    "      tokenized_inputs.append(sentence1)\n",
    "      tokenized_outputs.append(sentence2)\n",
    "  \n",
    "  # pad tokenized sentences\n",
    "  tokenized_inputs = tf.keras.preprocessing.sequence.pad_sequences(\n",
    "      tokenized_inputs, maxlen=MAX_LENGTH, padding='post')\n",
    "  tokenized_outputs = tf.keras.preprocessing.sequence.pad_sequences(\n",
    "      tokenized_outputs, maxlen=MAX_LENGTH, padding='post')\n",
    "  \n",
    "  return tokenized_inputs, tokenized_outputs\n",
    "\n",
    "\n",
    "questions, answers = tokenize_and_filter(questions, answers)\n",
    "print(\"Done\")"
   ]
  },
  {
   "cell_type": "code",
   "execution_count": 7,
   "id": "007ffcd4",
   "metadata": {
    "_cell_guid": "23a9b899-2c86-4324-bdb0-21ba7350af42",
    "_uuid": "8eb86d6c-6930-4649-808e-14ab1c3c7d1a",
    "collapsed": false,
    "execution": {
     "iopub.execute_input": "2024-08-02T10:25:27.911482Z",
     "iopub.status.busy": "2024-08-02T10:25:27.911034Z",
     "iopub.status.idle": "2024-08-02T10:25:27.918160Z",
     "shell.execute_reply": "2024-08-02T10:25:27.916656Z"
    },
    "jupyter": {
     "outputs_hidden": false
    },
    "papermill": {
     "duration": 0.026285,
     "end_time": "2024-08-02T10:25:27.920918",
     "exception": false,
     "start_time": "2024-08-02T10:25:27.894633",
     "status": "completed"
    },
    "tags": []
   },
   "outputs": [
    {
     "name": "stdout",
     "output_type": "stream",
     "text": [
      "Vocab size: 3650\n",
      "Number of samples: 3725\n"
     ]
    }
   ],
   "source": [
    "print('Vocab size: {}'.format(VOCAB_SIZE))\n",
    "print('Number of samples: {}'.format(len(questions)))"
   ]
  },
  {
   "cell_type": "code",
   "execution_count": 8,
   "id": "07fadf2a",
   "metadata": {
    "_cell_guid": "1ff3e5e9-c33c-4a1f-aa0c-d8aec945cb68",
    "_uuid": "ed4b9b5c-fa7d-4af1-b559-d4c8b1507cb1",
    "collapsed": false,
    "execution": {
     "iopub.execute_input": "2024-08-02T10:25:27.947330Z",
     "iopub.status.busy": "2024-08-02T10:25:27.946929Z",
     "iopub.status.idle": "2024-08-02T10:25:28.068953Z",
     "shell.execute_reply": "2024-08-02T10:25:28.067600Z"
    },
    "jupyter": {
     "outputs_hidden": false
    },
    "papermill": {
     "duration": 0.139022,
     "end_time": "2024-08-02T10:25:28.071956",
     "exception": false,
     "start_time": "2024-08-02T10:25:27.932934",
     "status": "completed"
    },
    "tags": []
   },
   "outputs": [
    {
     "name": "stdout",
     "output_type": "stream",
     "text": [
      "Done\n"
     ]
    }
   ],
   "source": [
    "# decoder inputs use the previous target as input\n",
    "# remove START_TOKEN from targets\n",
    "dataset = tf.data.Dataset.from_tensor_slices((\n",
    "    {\n",
    "        'inputs': questions,\n",
    "        'dec_inputs': answers[:, :-1]\n",
    "    },\n",
    "    {\n",
    "        'outputs': answers[:, 1:]\n",
    "    },\n",
    "))\n",
    "\n",
    "dataset = dataset.cache()\n",
    "dataset = dataset.shuffle(BUFFER_SIZE)\n",
    "dataset = dataset.batch(BATCH_SIZE)\n",
    "dataset = dataset.prefetch(tf.data.experimental.AUTOTUNE)\n",
    "print(\"Done\")"
   ]
  },
  {
   "cell_type": "code",
   "execution_count": 9,
   "id": "12c5589d",
   "metadata": {
    "_cell_guid": "ffd83075-5ae0-4497-b800-31f51b7c87a0",
    "_uuid": "2336fb94-b7aa-4cae-9c93-cacb82a73f91",
    "collapsed": false,
    "execution": {
     "iopub.execute_input": "2024-08-02T10:25:28.097723Z",
     "iopub.status.busy": "2024-08-02T10:25:28.097258Z",
     "iopub.status.idle": "2024-08-02T10:25:28.106343Z",
     "shell.execute_reply": "2024-08-02T10:25:28.105063Z"
    },
    "jupyter": {
     "outputs_hidden": false
    },
    "papermill": {
     "duration": 0.025546,
     "end_time": "2024-08-02T10:25:28.109537",
     "exception": false,
     "start_time": "2024-08-02T10:25:28.083991",
     "status": "completed"
    },
    "tags": []
   },
   "outputs": [
    {
     "name": "stdout",
     "output_type": "stream",
     "text": [
      "Done\n"
     ]
    }
   ],
   "source": [
    "def scaled_dot_product_attention(query, key, value, mask):\n",
    "  \"\"\"Calculate the attention weights. \"\"\"\n",
    "  matmul_qk = tf.matmul(query, key, transpose_b=True)\n",
    "\n",
    "  # scale matmul_qk\n",
    "  depth = tf.cast(tf.shape(key)[-1], tf.float32)\n",
    "  logits = matmul_qk / tf.math.sqrt(depth)\n",
    "\n",
    "  # add the mask to zero out padding tokens\n",
    "  if mask is not None:\n",
    "    logits += (mask * -1e9)\n",
    "\n",
    "  # softmax is normalized on the last axis (seq_len_k)\n",
    "  attention_weights = tf.nn.softmax(logits, axis=-1)\n",
    "\n",
    "  output = tf.matmul(attention_weights, value)\n",
    "\n",
    "  return output\n",
    "print(\"Done\")"
   ]
  },
  {
   "cell_type": "code",
   "execution_count": 10,
   "id": "2755d1b6",
   "metadata": {
    "_cell_guid": "23aa6f93-001f-460a-8a26-fa13beae914a",
    "_uuid": "ea8efab5-2f6e-4098-8157-a3125895ba71",
    "collapsed": false,
    "execution": {
     "iopub.execute_input": "2024-08-02T10:25:28.135157Z",
     "iopub.status.busy": "2024-08-02T10:25:28.134513Z",
     "iopub.status.idle": "2024-08-02T10:25:28.150679Z",
     "shell.execute_reply": "2024-08-02T10:25:28.149299Z"
    },
    "jupyter": {
     "outputs_hidden": false
    },
    "papermill": {
     "duration": 0.032658,
     "end_time": "2024-08-02T10:25:28.154040",
     "exception": false,
     "start_time": "2024-08-02T10:25:28.121382",
     "status": "completed"
    },
    "tags": []
   },
   "outputs": [
    {
     "name": "stdout",
     "output_type": "stream",
     "text": [
      "Done\n"
     ]
    }
   ],
   "source": [
    "class MultiHeadAttention(tf.keras.layers.Layer):\n",
    "\n",
    "  def __init__(self, d_model, num_heads, name=\"multi_head_attention\"):\n",
    "    super(MultiHeadAttention, self).__init__(name=name)\n",
    "    self.num_heads = num_heads\n",
    "    self.d_model = d_model\n",
    "\n",
    "    assert d_model % self.num_heads == 0\n",
    "\n",
    "    self.depth = d_model // self.num_heads\n",
    "\n",
    "    self.query_dense = tf.keras.layers.Dense(units=d_model)\n",
    "    self.key_dense = tf.keras.layers.Dense(units=d_model)\n",
    "    self.value_dense = tf.keras.layers.Dense(units=d_model)\n",
    "\n",
    "    self.dense = tf.keras.layers.Dense(units=d_model)\n",
    "\n",
    "  def split_heads(self, inputs, batch_size):\n",
    "    inputs = tf.reshape(\n",
    "        inputs, shape=(batch_size, -1, self.num_heads, self.depth))\n",
    "    return tf.transpose(inputs, perm=[0, 2, 1, 3])\n",
    "\n",
    "  def call(self, inputs):\n",
    "    query, key, value, mask = inputs['query'], inputs['key'], inputs[\n",
    "        'value'], inputs['mask']\n",
    "    batch_size = tf.shape(query)[0]\n",
    "\n",
    "    # linear layers\n",
    "    query = self.query_dense(query)\n",
    "    key = self.key_dense(key)\n",
    "    value = self.value_dense(value)\n",
    "\n",
    "    # split heads\n",
    "    query = self.split_heads(query, batch_size)\n",
    "    key = self.split_heads(key, batch_size)\n",
    "    value = self.split_heads(value, batch_size)\n",
    "\n",
    "    # scaled dot-product attention\n",
    "    scaled_attention = scaled_dot_product_attention(query, key, value, mask)\n",
    "\n",
    "    scaled_attention = tf.transpose(scaled_attention, perm=[0, 2, 1, 3])\n",
    "\n",
    "    # concatenation of heads\n",
    "    concat_attention = tf.reshape(scaled_attention,\n",
    "                                  (batch_size, -1, self.d_model))\n",
    "\n",
    "    # final linear layer\n",
    "    outputs = self.dense(concat_attention)\n",
    "\n",
    "    return outputs\n",
    "print(\"Done\")"
   ]
  },
  {
   "cell_type": "code",
   "execution_count": 11,
   "id": "e6e70f25",
   "metadata": {
    "_cell_guid": "2def7f11-8a0f-4da2-a1ca-7ab177967f8f",
    "_uuid": "5a531f3a-9da7-4cb9-a458-d3772a247b14",
    "collapsed": false,
    "execution": {
     "iopub.execute_input": "2024-08-02T10:25:28.180418Z",
     "iopub.status.busy": "2024-08-02T10:25:28.179925Z",
     "iopub.status.idle": "2024-08-02T10:25:28.196447Z",
     "shell.execute_reply": "2024-08-02T10:25:28.194970Z"
    },
    "jupyter": {
     "outputs_hidden": false
    },
    "papermill": {
     "duration": 0.03294,
     "end_time": "2024-08-02T10:25:28.199129",
     "exception": false,
     "start_time": "2024-08-02T10:25:28.166189",
     "status": "completed"
    },
    "tags": []
   },
   "outputs": [
    {
     "name": "stdout",
     "output_type": "stream",
     "text": [
      "Done\n"
     ]
    }
   ],
   "source": [
    "def create_padding_mask(x):\n",
    "  mask = tf.cast(tf.math.equal(x, 0), tf.float32)\n",
    "  # (batch_size, 1, 1, sequence length)\n",
    "  return mask[:, tf.newaxis, tf.newaxis, :]\n",
    "\n",
    "\n",
    "def create_look_ahead_mask(x):\n",
    "  seq_len = tf.shape(x)[1]\n",
    "  look_ahead_mask = 1 - tf.linalg.band_part(tf.ones((seq_len, seq_len)), -1, 0)\n",
    "  padding_mask = create_padding_mask(x)\n",
    "  return tf.maximum(look_ahead_mask, padding_mask)\n",
    "\n",
    "class PositionalEncoding(tf.keras.layers.Layer):\n",
    "\n",
    "  def __init__(self, position, d_model):\n",
    "    super(PositionalEncoding, self).__init__()\n",
    "    self.pos_encoding = self.positional_encoding(position, d_model)\n",
    "\n",
    "  def get_angles(self, position, i, d_model):\n",
    "    angles = 1 / tf.pow(10000, (2 * (i // 2)) / tf.cast(d_model, tf.float32))\n",
    "    return position * angles\n",
    "\n",
    "  def positional_encoding(self, position, d_model):\n",
    "    angle_rads = self.get_angles(\n",
    "        position=tf.range(position, dtype=tf.float32)[:, tf.newaxis],\n",
    "        i=tf.range(d_model, dtype=tf.float32)[tf.newaxis, :],\n",
    "        d_model=d_model)\n",
    "    # apply sin to even index in the array\n",
    "    sines = tf.math.sin(angle_rads[:, 0::2])\n",
    "    # apply cos to odd index in the array\n",
    "    cosines = tf.math.cos(angle_rads[:, 1::2])\n",
    "\n",
    "    pos_encoding = tf.concat([sines, cosines], axis=-1)\n",
    "    pos_encoding = pos_encoding[tf.newaxis, ...]\n",
    "    return tf.cast(pos_encoding, tf.float32)\n",
    "\n",
    "  def call(self, inputs):\n",
    "    return inputs + self.pos_encoding[:, :tf.shape(inputs)[1], :]\n",
    "print(\"Done\")"
   ]
  },
  {
   "cell_type": "code",
   "execution_count": 12,
   "id": "c42e8f58",
   "metadata": {
    "_cell_guid": "cf75df2e-1da0-4b04-99ae-4d918081c416",
    "_uuid": "ba9fa75d-a46d-4e04-abb9-f8268ef3b42a",
    "collapsed": false,
    "execution": {
     "iopub.execute_input": "2024-08-02T10:25:28.226662Z",
     "iopub.status.busy": "2024-08-02T10:25:28.225480Z",
     "iopub.status.idle": "2024-08-02T10:25:28.238111Z",
     "shell.execute_reply": "2024-08-02T10:25:28.236415Z"
    },
    "jupyter": {
     "outputs_hidden": false
    },
    "papermill": {
     "duration": 0.029271,
     "end_time": "2024-08-02T10:25:28.240719",
     "exception": false,
     "start_time": "2024-08-02T10:25:28.211448",
     "status": "completed"
    },
    "tags": []
   },
   "outputs": [
    {
     "name": "stdout",
     "output_type": "stream",
     "text": [
      "Done\n"
     ]
    }
   ],
   "source": [
    "def encoder_layer(units, d_model, num_heads, dropout, name=\"encoder_layer\"):\n",
    "  inputs = tf.keras.Input(shape=(None, d_model), name=\"inputs\")\n",
    "  padding_mask = tf.keras.Input(shape=(1, 1, None), name=\"padding_mask\")\n",
    "\n",
    "  attention = MultiHeadAttention(\n",
    "      d_model, num_heads, name=\"attention\")({\n",
    "          'query': inputs,\n",
    "          'key': inputs,\n",
    "          'value': inputs,\n",
    "          'mask': padding_mask\n",
    "      })\n",
    "  attention = tf.keras.layers.Dropout(rate=dropout)(attention)\n",
    "  attention = tf.keras.layers.LayerNormalization(\n",
    "      epsilon=1e-6)(inputs + attention)\n",
    "\n",
    "  outputs = tf.keras.layers.Dense(units=units, activation='relu')(attention)\n",
    "  outputs = tf.keras.layers.Dense(units=d_model)(outputs)\n",
    "  outputs = tf.keras.layers.Dropout(rate=dropout)(outputs)\n",
    "  outputs = tf.keras.layers.LayerNormalization(\n",
    "      epsilon=1e-6)(attention + outputs)\n",
    "\n",
    "  return tf.keras.Model(\n",
    "      inputs=[inputs, padding_mask], outputs=outputs, name=name)\n",
    "print(\"Done\")"
   ]
  },
  {
   "cell_type": "code",
   "execution_count": 13,
   "id": "335775b7",
   "metadata": {
    "_cell_guid": "187df47e-2799-41d5-9fb4-78d738d32aa7",
    "_uuid": "eba493dc-d081-4fb0-8d4d-985428cabffc",
    "collapsed": false,
    "execution": {
     "iopub.execute_input": "2024-08-02T10:25:28.267645Z",
     "iopub.status.busy": "2024-08-02T10:25:28.267160Z",
     "iopub.status.idle": "2024-08-02T10:25:28.279907Z",
     "shell.execute_reply": "2024-08-02T10:25:28.278247Z"
    },
    "jupyter": {
     "outputs_hidden": false
    },
    "papermill": {
     "duration": 0.029288,
     "end_time": "2024-08-02T10:25:28.282348",
     "exception": false,
     "start_time": "2024-08-02T10:25:28.253060",
     "status": "completed"
    },
    "tags": []
   },
   "outputs": [
    {
     "name": "stdout",
     "output_type": "stream",
     "text": [
      "Done\n"
     ]
    }
   ],
   "source": [
    "def encoder(vocab_size,\n",
    "            num_layers,\n",
    "            units,\n",
    "            d_model,\n",
    "            num_heads,\n",
    "            dropout,\n",
    "            name=\"encoder\"):\n",
    "  inputs = tf.keras.Input(shape=(None,), name=\"inputs\")\n",
    "  padding_mask = tf.keras.Input(shape=(1, 1, None), name=\"padding_mask\")\n",
    "\n",
    "  embeddings = tf.keras.layers.Embedding(vocab_size, d_model)(inputs)\n",
    "  embeddings *= tf.math.sqrt(tf.cast(d_model, tf.float32))\n",
    "  embeddings = PositionalEncoding(vocab_size, d_model)(embeddings)\n",
    "\n",
    "  outputs = tf.keras.layers.Dropout(rate=dropout)(embeddings)\n",
    "  for i in range(int(num_layers)):\n",
    "    outputs = encoder_layer(\n",
    "        units=units,\n",
    "        d_model=d_model,\n",
    "        num_heads=num_heads,\n",
    "        dropout=dropout,\n",
    "        name=\"encoder_layer_{}\".format(i),\n",
    "    )([outputs, padding_mask])\n",
    "\n",
    "  return tf.keras.Model(\n",
    "      inputs=[inputs, padding_mask], outputs=outputs, name=name)\n",
    "print(\"Done\")"
   ]
  },
  {
   "cell_type": "code",
   "execution_count": 14,
   "id": "844f1c66",
   "metadata": {
    "_cell_guid": "cc1f01ef-06c3-4683-905b-81b37a04df09",
    "_uuid": "1830f914-698a-4f4a-bd73-ac9163b98ed3",
    "collapsed": false,
    "execution": {
     "iopub.execute_input": "2024-08-02T10:25:28.310111Z",
     "iopub.status.busy": "2024-08-02T10:25:28.309661Z",
     "iopub.status.idle": "2024-08-02T10:25:28.325321Z",
     "shell.execute_reply": "2024-08-02T10:25:28.323770Z"
    },
    "jupyter": {
     "outputs_hidden": false
    },
    "papermill": {
     "duration": 0.032659,
     "end_time": "2024-08-02T10:25:28.328010",
     "exception": false,
     "start_time": "2024-08-02T10:25:28.295351",
     "status": "completed"
    },
    "tags": []
   },
   "outputs": [
    {
     "name": "stdout",
     "output_type": "stream",
     "text": [
      "Done\n"
     ]
    }
   ],
   "source": [
    "def decoder_layer(units, d_model, num_heads, dropout, name=\"decoder_layer\"):\n",
    "  inputs = tf.keras.Input(shape=(None, d_model), name=\"inputs\")\n",
    "  enc_outputs = tf.keras.Input(shape=(None, d_model), name=\"encoder_outputs\")\n",
    "  look_ahead_mask = tf.keras.Input(\n",
    "      shape=(1, None, None), name=\"look_ahead_mask\")\n",
    "  padding_mask = tf.keras.Input(shape=(1, 1, None), name='padding_mask')\n",
    "\n",
    "  attention1 = MultiHeadAttention(\n",
    "      d_model, num_heads, name=\"attention_1\")(inputs={\n",
    "          'query': inputs,\n",
    "          'key': inputs,\n",
    "          'value': inputs,\n",
    "          'mask': look_ahead_mask\n",
    "      })\n",
    "  attention1 = tf.keras.layers.LayerNormalization(\n",
    "      epsilon=1e-6)(attention1 + inputs)\n",
    "\n",
    "  attention2 = MultiHeadAttention(\n",
    "      d_model, num_heads, name=\"attention_2\")(inputs={\n",
    "          'query': attention1,\n",
    "          'key': enc_outputs,\n",
    "          'value': enc_outputs,\n",
    "          'mask': padding_mask\n",
    "      })\n",
    "  attention2 = tf.keras.layers.Dropout(rate=dropout)(attention2)\n",
    "  attention2 = tf.keras.layers.LayerNormalization(\n",
    "      epsilon=1e-6)(attention2 + attention1)\n",
    "\n",
    "  outputs = tf.keras.layers.Dense(units=units, activation='relu')(attention2)\n",
    "  outputs = tf.keras.layers.Dense(units=d_model)(outputs)\n",
    "  outputs = tf.keras.layers.Dropout(rate=dropout)(outputs)\n",
    "  outputs = tf.keras.layers.LayerNormalization(\n",
    "      epsilon=1e-6)(outputs + attention2)\n",
    "\n",
    "  return tf.keras.Model(\n",
    "      inputs=[inputs, enc_outputs, look_ahead_mask, padding_mask],\n",
    "      outputs=outputs,\n",
    "      name=name)\n",
    "print(\"Done\")"
   ]
  },
  {
   "cell_type": "code",
   "execution_count": 15,
   "id": "4484b7b3",
   "metadata": {
    "_cell_guid": "28adeb45-27c1-40ee-b724-6955391021cc",
    "_uuid": "50acc983-1f8f-4ee6-8bad-1dc24d542536",
    "collapsed": false,
    "execution": {
     "iopub.execute_input": "2024-08-02T10:25:28.355616Z",
     "iopub.status.busy": "2024-08-02T10:25:28.355104Z",
     "iopub.status.idle": "2024-08-02T10:25:28.368788Z",
     "shell.execute_reply": "2024-08-02T10:25:28.367299Z"
    },
    "jupyter": {
     "outputs_hidden": false
    },
    "papermill": {
     "duration": 0.030891,
     "end_time": "2024-08-02T10:25:28.371477",
     "exception": false,
     "start_time": "2024-08-02T10:25:28.340586",
     "status": "completed"
    },
    "tags": []
   },
   "outputs": [
    {
     "name": "stdout",
     "output_type": "stream",
     "text": [
      "Done\n"
     ]
    }
   ],
   "source": [
    "def decoder(vocab_size,\n",
    "            num_layers,\n",
    "            units,\n",
    "            d_model,\n",
    "            num_heads,\n",
    "            dropout,\n",
    "            name='decoder'):\n",
    "  inputs = tf.keras.Input(shape=(None,), name='inputs')\n",
    "  enc_outputs = tf.keras.Input(shape=(None, d_model), name='encoder_outputs')\n",
    "  look_ahead_mask = tf.keras.Input(\n",
    "      shape=(1, None, None), name='look_ahead_mask')\n",
    "  padding_mask = tf.keras.Input(shape=(1, 1, None), name='padding_mask')\n",
    "  \n",
    "  embeddings = tf.keras.layers.Embedding(vocab_size, d_model)(inputs)\n",
    "  embeddings *= tf.math.sqrt(tf.cast(d_model, tf.float32))\n",
    "  embeddings = PositionalEncoding(vocab_size, d_model)(embeddings)\n",
    "\n",
    "  outputs = tf.keras.layers.Dropout(rate=dropout)(embeddings)\n",
    "\n",
    "  for i in range(int(num_layers)):\n",
    "    outputs = decoder_layer(\n",
    "        units=units,\n",
    "        d_model=d_model,\n",
    "        num_heads=num_heads,\n",
    "        dropout=dropout,\n",
    "        name='decoder_layer_{}'.format(i),\n",
    "    )(inputs=[outputs, enc_outputs, look_ahead_mask, padding_mask])\n",
    "\n",
    "  return tf.keras.Model(\n",
    "      inputs=[inputs, enc_outputs, look_ahead_mask, padding_mask],\n",
    "      outputs=outputs,\n",
    "      name=name)\n",
    "print(\"Done\")"
   ]
  },
  {
   "cell_type": "code",
   "execution_count": 16,
   "id": "2a01ee88",
   "metadata": {
    "_cell_guid": "5d5cf71f-289e-4839-8e5c-5567642fc224",
    "_uuid": "8027a5f8-8a78-4c75-95b8-27db23d77545",
    "collapsed": false,
    "execution": {
     "iopub.execute_input": "2024-08-02T10:25:28.400154Z",
     "iopub.status.busy": "2024-08-02T10:25:28.399679Z",
     "iopub.status.idle": "2024-08-02T10:25:28.413593Z",
     "shell.execute_reply": "2024-08-02T10:25:28.412070Z"
    },
    "jupyter": {
     "outputs_hidden": false
    },
    "papermill": {
     "duration": 0.032862,
     "end_time": "2024-08-02T10:25:28.416982",
     "exception": false,
     "start_time": "2024-08-02T10:25:28.384120",
     "status": "completed"
    },
    "tags": []
   },
   "outputs": [
    {
     "name": "stdout",
     "output_type": "stream",
     "text": [
      "Done\n"
     ]
    }
   ],
   "source": [
    "def transformer(vocab_size,\n",
    "                num_layers,\n",
    "                units,\n",
    "                d_model,\n",
    "                num_heads,\n",
    "                dropout,\n",
    "                name=\"transformer\"):\n",
    "  inputs = tf.keras.Input(shape=(None,), name=\"inputs\")\n",
    "  dec_inputs = tf.keras.Input(shape=(None,), name=\"dec_inputs\")\n",
    "\n",
    "  enc_padding_mask = tf.keras.layers.Lambda(\n",
    "      create_padding_mask, output_shape=(1, 1, None),\n",
    "      name='enc_padding_mask')(inputs)\n",
    "  # mask the future tokens for decoder inputs at the 1st attention block\n",
    "  look_ahead_mask = tf.keras.layers.Lambda(\n",
    "      create_look_ahead_mask,\n",
    "      output_shape=(1, None, None),\n",
    "      name='look_ahead_mask')(dec_inputs)\n",
    "  # mask the encoder outputs for the 2nd attention block\n",
    "  dec_padding_mask = tf.keras.layers.Lambda(\n",
    "      create_padding_mask, output_shape=(1, 1, None),\n",
    "      name='dec_padding_mask')(inputs)\n",
    "\n",
    "  enc_outputs = encoder(\n",
    "      vocab_size=vocab_size,\n",
    "      num_layers=num_layers,\n",
    "      units=units,\n",
    "      d_model=d_model,\n",
    "      num_heads=num_heads,\n",
    "      dropout=dropout,\n",
    "  )(inputs=[inputs, enc_padding_mask])\n",
    "\n",
    "  dec_outputs = decoder(\n",
    "      vocab_size=vocab_size,\n",
    "      num_layers=num_layers,\n",
    "      units=units,\n",
    "      d_model=d_model,\n",
    "      num_heads=num_heads,\n",
    "      dropout=dropout,\n",
    "  )(inputs=[dec_inputs, enc_outputs, look_ahead_mask, dec_padding_mask])\n",
    "\n",
    "  outputs = tf.keras.layers.Dense(units=vocab_size, name=\"outputs\")(dec_outputs)\n",
    "\n",
    "  return tf.keras.Model(inputs=[inputs, dec_inputs], outputs=outputs, name=name)\n",
    "print(\"Done\")"
   ]
  },
  {
   "cell_type": "code",
   "execution_count": 17,
   "id": "e46847e6",
   "metadata": {
    "_cell_guid": "6eb95916-1a90-4e96-ba38-7e6e5e3c8be8",
    "_uuid": "006cdf7e-da3a-49ad-838c-b2620174795e",
    "collapsed": false,
    "execution": {
     "iopub.execute_input": "2024-08-02T10:25:28.444703Z",
     "iopub.status.busy": "2024-08-02T10:25:28.444181Z",
     "iopub.status.idle": "2024-08-02T10:25:28.452467Z",
     "shell.execute_reply": "2024-08-02T10:25:28.451012Z"
    },
    "jupyter": {
     "outputs_hidden": false
    },
    "papermill": {
     "duration": 0.025614,
     "end_time": "2024-08-02T10:25:28.455510",
     "exception": false,
     "start_time": "2024-08-02T10:25:28.429896",
     "status": "completed"
    },
    "tags": []
   },
   "outputs": [
    {
     "name": "stdout",
     "output_type": "stream",
     "text": [
      "Done\n"
     ]
    }
   ],
   "source": [
    "def loss_function(y_true, y_pred):\n",
    "  y_true = tf.reshape(y_true, shape=(-1, MAX_LENGTH - 1))\n",
    "  \n",
    "  loss = tf.keras.losses.SparseCategoricalCrossentropy(\n",
    "      from_logits=True, reduction='none')(y_true, y_pred)\n",
    "\n",
    "  mask = tf.cast(tf.not_equal(y_true, 0), tf.float32)\n",
    "  loss = tf.multiply(loss, mask)\n",
    "\n",
    "  return tf.reduce_mean(loss)\n",
    "print(\"Done\")"
   ]
  },
  {
   "cell_type": "code",
   "execution_count": 18,
   "id": "5d35b5a7",
   "metadata": {
    "_cell_guid": "4ae21208-b123-4261-97ff-ee385e2ce2e1",
    "_uuid": "458ef1b6-7532-454b-8cd4-caa37037679c",
    "collapsed": false,
    "execution": {
     "iopub.execute_input": "2024-08-02T10:25:28.483518Z",
     "iopub.status.busy": "2024-08-02T10:25:28.483073Z",
     "iopub.status.idle": "2024-08-02T10:25:28.493021Z",
     "shell.execute_reply": "2024-08-02T10:25:28.491615Z"
    },
    "jupyter": {
     "outputs_hidden": false
    },
    "papermill": {
     "duration": 0.027194,
     "end_time": "2024-08-02T10:25:28.495608",
     "exception": false,
     "start_time": "2024-08-02T10:25:28.468414",
     "status": "completed"
    },
    "tags": []
   },
   "outputs": [
    {
     "name": "stdout",
     "output_type": "stream",
     "text": [
      "Done\n"
     ]
    }
   ],
   "source": [
    "class CustomSchedule(tf.keras.optimizers.schedules.LearningRateSchedule):\n",
    "\n",
    "  def __init__(self, d_model, warmup_steps=4000):\n",
    "    super(CustomSchedule, self).__init__()\n",
    "\n",
    "    self.d_model = d_model\n",
    "    self.d_model = tf.cast(self.d_model, tf.float32)\n",
    "\n",
    "    self.warmup_steps = warmup_steps\n",
    "\n",
    "  def __call__(self, step):\n",
    "    arg1 = tf.math.rsqrt(step)\n",
    "    arg2 = step * (self.warmup_steps**-1.5)\n",
    "\n",
    "    return tf.math.rsqrt(self.d_model) * tf.math.minimum(arg1, arg2)\n",
    "print(\"Done\")"
   ]
  },
  {
   "cell_type": "code",
   "execution_count": 19,
   "id": "262aff26",
   "metadata": {
    "_cell_guid": "beaa31ec-9cfa-4fa0-ab63-7c953ec058a1",
    "_uuid": "f97bf35d-9e54-44f7-8d04-a507eecc0ada",
    "collapsed": false,
    "execution": {
     "iopub.execute_input": "2024-08-02T10:25:28.526674Z",
     "iopub.status.busy": "2024-08-02T10:25:28.525378Z",
     "iopub.status.idle": "2024-08-02T10:25:28.558733Z",
     "shell.execute_reply": "2024-08-02T10:25:28.557195Z"
    },
    "jupyter": {
     "outputs_hidden": false
    },
    "papermill": {
     "duration": 0.052416,
     "end_time": "2024-08-02T10:25:28.561626",
     "exception": false,
     "start_time": "2024-08-02T10:25:28.509210",
     "status": "completed"
    },
    "tags": []
   },
   "outputs": [
    {
     "name": "stdout",
     "output_type": "stream",
     "text": [
      "Done\n"
     ]
    }
   ],
   "source": [
    "# clear backend\n",
    "tf.keras.backend.clear_session()\n",
    "\n",
    "learning_rate = CustomSchedule(D_MODEL)\n",
    "\n",
    "# optimizer = tf.keras.optimizers.Adam(learning_rate, beta_1=0.9, beta_2=0.98, epsilon=1e-9)\n",
    "\n",
    "optimizer = tf.keras.optimizers.Adam()\n",
    "\n",
    "def accuracy(y_true, y_pred):\n",
    "  # ensure labels have shape (batch_size, MAX_LENGTH - 1)\n",
    "  y_true = tf.reshape(y_true, shape=(-1, MAX_LENGTH - 1))\n",
    "  return tf.keras.metrics.sparse_categorical_accuracy(y_true, y_pred)\n",
    "print(\"Done\")"
   ]
  },
  {
   "cell_type": "code",
   "execution_count": 20,
   "id": "2abb093a",
   "metadata": {
    "_cell_guid": "164656af-ec8a-4edd-b05d-280ec7c5b3d3",
    "_uuid": "8b3c14b9-5369-45ba-8c48-7f9402a53998",
    "collapsed": false,
    "execution": {
     "iopub.execute_input": "2024-08-02T10:25:28.589588Z",
     "iopub.status.busy": "2024-08-02T10:25:28.589091Z",
     "iopub.status.idle": "2024-08-02T10:25:32.640094Z",
     "shell.execute_reply": "2024-08-02T10:25:32.638731Z"
    },
    "jupyter": {
     "outputs_hidden": false
    },
    "papermill": {
     "duration": 4.067967,
     "end_time": "2024-08-02T10:25:32.642644",
     "exception": false,
     "start_time": "2024-08-02T10:25:28.574677",
     "status": "completed"
    },
    "tags": []
   },
   "outputs": [
    {
     "name": "stdout",
     "output_type": "stream",
     "text": [
      "Model: \"transformer\"\n",
      "__________________________________________________________________________________________________\n",
      " Layer (type)                   Output Shape         Param #     Connected to                     \n",
      "==================================================================================================\n",
      " inputs (InputLayer)            [(None, None)]       0           []                               \n",
      "                                                                                                  \n",
      " dec_inputs (InputLayer)        [(None, None)]       0           []                               \n",
      "                                                                                                  \n",
      " enc_padding_mask (Lambda)      (None, 1, 1, None)   0           ['inputs[0][0]']                 \n",
      "                                                                                                  \n",
      " encoder (Functional)           (None, None, 256)    1988608     ['inputs[0][0]',                 \n",
      "                                                                  'enc_padding_mask[0][0]']       \n",
      "                                                                                                  \n",
      " look_ahead_mask (Lambda)       (None, 1, None, Non  0           ['dec_inputs[0][0]']             \n",
      "                                e)                                                                \n",
      "                                                                                                  \n",
      " dec_padding_mask (Lambda)      (None, 1, 1, None)   0           ['inputs[0][0]']                 \n",
      "                                                                                                  \n",
      " decoder (Functional)           (None, None, 256)    2515968     ['dec_inputs[0][0]',             \n",
      "                                                                  'encoder[0][0]',                \n",
      "                                                                  'look_ahead_mask[0][0]',        \n",
      "                                                                  'dec_padding_mask[0][0]']       \n",
      "                                                                                                  \n",
      " outputs (Dense)                (None, None, 3650)   938050      ['decoder[0][0]']                \n",
      "                                                                                                  \n",
      "==================================================================================================\n",
      "Total params: 5,442,626\n",
      "Trainable params: 5,442,626\n",
      "Non-trainable params: 0\n",
      "__________________________________________________________________________________________________\n",
      "Done\n"
     ]
    }
   ],
   "source": [
    "# initialize and compile model within strategy scope\n",
    "with strategy.scope():\n",
    "  model = transformer(\n",
    "      vocab_size=VOCAB_SIZE,\n",
    "      num_layers=NUM_LAYERS,\n",
    "      units=UNITS,\n",
    "      d_model=D_MODEL,\n",
    "      num_heads=NUM_HEADS,\n",
    "      dropout=DROPOUT)\n",
    "\n",
    "  model.compile(optimizer=optimizer, loss=loss_function, metrics=[accuracy])\n",
    "\n",
    "model.summary()\n",
    "print(\"Done\")"
   ]
  },
  {
   "cell_type": "code",
   "execution_count": 21,
   "id": "7f09828b",
   "metadata": {
    "_cell_guid": "4350ff6e-226c-48cc-9fb5-05659e1289cd",
    "_uuid": "e894bd4c-32f8-4d92-99d7-ae62e2179091",
    "collapsed": false,
    "execution": {
     "iopub.execute_input": "2024-08-02T10:25:32.675511Z",
     "iopub.status.busy": "2024-08-02T10:25:32.675068Z",
     "iopub.status.idle": "2024-08-02T10:48:38.878875Z",
     "shell.execute_reply": "2024-08-02T10:48:38.877611Z"
    },
    "jupyter": {
     "outputs_hidden": false
    },
    "papermill": {
     "duration": 1386.223375,
     "end_time": "2024-08-02T10:48:38.881507",
     "exception": false,
     "start_time": "2024-08-02T10:25:32.658132",
     "status": "completed"
    },
    "tags": []
   },
   "outputs": [
    {
     "name": "stdout",
     "output_type": "stream",
     "text": [
      "Epoch 1/10\n",
      "59/59 [==============================] - 158s 2s/step - loss: 0.4651 - accuracy: 0.0109\n",
      "Epoch 2/10\n",
      "59/59 [==============================] - 139s 2s/step - loss: 0.4024 - accuracy: 0.0146\n",
      "Epoch 3/10\n",
      "59/59 [==============================] - 140s 2s/step - loss: 0.3601 - accuracy: 0.0179\n",
      "Epoch 4/10\n",
      "59/59 [==============================] - 140s 2s/step - loss: 0.3256 - accuracy: 0.0203\n",
      "Epoch 5/10\n",
      "59/59 [==============================] - 140s 2s/step - loss: 0.2955 - accuracy: 0.0226\n",
      "Epoch 6/10\n",
      "59/59 [==============================] - 136s 2s/step - loss: 0.2674 - accuracy: 0.0252\n",
      "Epoch 7/10\n",
      "59/59 [==============================] - 132s 2s/step - loss: 0.2387 - accuracy: 0.0285\n",
      "Epoch 8/10\n",
      "59/59 [==============================] - 139s 2s/step - loss: 0.2107 - accuracy: 0.0324\n",
      "Epoch 9/10\n",
      "59/59 [==============================] - 134s 2s/step - loss: 0.1826 - accuracy: 0.0368\n",
      "Epoch 10/10\n",
      "59/59 [==============================] - 127s 2s/step - loss: 0.1554 - accuracy: 0.0416\n",
      "Done\n"
     ]
    }
   ],
   "source": [
    "import datetime\n",
    "\n",
    "\n",
    "logdir = os.path.join(\"logs\", datetime.datetime.now().strftime(\"%Y%m%d-%H%M%S\"))\n",
    "tensorboard_callback = tf.keras.callbacks.TensorBoard(logdir, histogram_freq=1)\n",
    "\n",
    "model.fit(dataset, epochs=10, callbacks = [tensorboard_callback])\n",
    "print(\"Done\")"
   ]
  },
  {
   "cell_type": "code",
   "execution_count": null,
   "id": "91fe4c9c",
   "metadata": {
    "_cell_guid": "6bef30d4-fc72-4588-8404-45f5c3cf32a8",
    "_uuid": "024b1bd4-cf31-4e92-9ca5-ab06c485d592",
    "collapsed": false,
    "jupyter": {
     "outputs_hidden": false
    },
    "papermill": {
     "duration": 0.069959,
     "end_time": "2024-08-02T10:48:39.022484",
     "exception": false,
     "start_time": "2024-08-02T10:48:38.952525",
     "status": "completed"
    },
    "tags": []
   },
   "outputs": [],
   "source": []
  },
  {
   "cell_type": "code",
   "execution_count": 22,
   "id": "c69d6edc",
   "metadata": {
    "_cell_guid": "1dfc4aa7-cf18-4e86-95df-5acd9aaf7e47",
    "_uuid": "3a32d2a3-1292-4afe-9a9b-6ac2a3afc4fc",
    "collapsed": false,
    "execution": {
     "iopub.execute_input": "2024-08-02T10:48:39.165472Z",
     "iopub.status.busy": "2024-08-02T10:48:39.164966Z",
     "iopub.status.idle": "2024-08-02T10:48:39.177020Z",
     "shell.execute_reply": "2024-08-02T10:48:39.175756Z"
    },
    "jupyter": {
     "outputs_hidden": false
    },
    "papermill": {
     "duration": 0.086282,
     "end_time": "2024-08-02T10:48:39.179488",
     "exception": false,
     "start_time": "2024-08-02T10:48:39.093206",
     "status": "completed"
    },
    "tags": []
   },
   "outputs": [],
   "source": [
    "def evaluate(sentence, model):\n",
    "#   sentence = textPreprocess(sentence)\n",
    "\n",
    "  sentence = tf.expand_dims(\n",
    "      START_TOKEN + tokenizer.encode(sentence) + END_TOKEN, axis=0)\n",
    "\n",
    "  output = tf.expand_dims(START_TOKEN, 0)\n",
    "\n",
    "  for i in range(MAX_LENGTH):\n",
    "    predictions = model(inputs=[sentence, output], training=False)\n",
    "\n",
    "    # select the last word from the seq_len dimension\n",
    "    predictions = predictions[:, -1:, :]\n",
    "    predicted_id = tf.cast(tf.argmax(predictions, axis=-1), tf.int32)\n",
    "\n",
    "    \n",
    "    # return the result if the predicted_id is equal to the end token\n",
    "    if tf.equal(predicted_id, END_TOKEN[0]):\n",
    "      break\n",
    "\n",
    "    # concatenated the predicted_id to the output which is given to the decoder\n",
    "    # as its input.\n",
    "    output = tf.concat([output, predicted_id], axis=-1)\n",
    "\n",
    "  return tf.squeeze(output, axis=0)\n",
    "\n",
    "\n",
    "def predict(sentence,model):\n",
    "  prediction = evaluate(sentence,model)\n",
    "\n",
    "  predicted_sentence = tokenizer.decode(\n",
    "      [i for i in prediction if i < tokenizer.vocab_size])\n",
    "\n",
    "  print('Input: {}'.format(sentence))\n",
    "  print('Output: {}'.format(predicted_sentence))\n",
    "\n",
    "  return predicted_sentence"
   ]
  },
  {
   "cell_type": "code",
   "execution_count": 23,
   "id": "cb66527b",
   "metadata": {
    "_cell_guid": "214d5f45-e006-4dfa-91ee-330ee70f4252",
    "_uuid": "d783fd38-7c91-477a-b89d-2da815de2c7f",
    "collapsed": false,
    "execution": {
     "iopub.execute_input": "2024-08-02T10:48:39.321379Z",
     "iopub.status.busy": "2024-08-02T10:48:39.320920Z",
     "iopub.status.idle": "2024-08-02T10:48:39.418783Z",
     "shell.execute_reply": "2024-08-02T10:48:39.417464Z"
    },
    "jupyter": {
     "outputs_hidden": false
    },
    "papermill": {
     "duration": 0.173085,
     "end_time": "2024-08-02T10:48:39.421894",
     "exception": false,
     "start_time": "2024-08-02T10:48:39.248809",
     "status": "completed"
    },
    "tags": []
   },
   "outputs": [],
   "source": [
    "model.save_weights('saved_weights.h5')"
   ]
  },
  {
   "cell_type": "code",
   "execution_count": 24,
   "id": "f47de00e",
   "metadata": {
    "_cell_guid": "fe07d539-9d8e-45ff-b516-ffe4125005ba",
    "_uuid": "fc245a4f-07eb-43a8-bc12-ce103edb1aea",
    "collapsed": false,
    "execution": {
     "iopub.execute_input": "2024-08-02T10:48:39.567472Z",
     "iopub.status.busy": "2024-08-02T10:48:39.566986Z",
     "iopub.status.idle": "2024-08-02T10:48:42.996077Z",
     "shell.execute_reply": "2024-08-02T10:48:42.994744Z"
    },
    "jupyter": {
     "outputs_hidden": false
    },
    "papermill": {
     "duration": 3.504983,
     "end_time": "2024-08-02T10:48:42.999152",
     "exception": false,
     "start_time": "2024-08-02T10:48:39.494169",
     "status": "completed"
    },
    "tags": []
   },
   "outputs": [],
   "source": [
    "loaded_model = transformer(\n",
    "      vocab_size=VOCAB_SIZE,\n",
    "      num_layers=NUM_LAYERS,\n",
    "      units=UNITS,\n",
    "      d_model=D_MODEL,  \n",
    "      num_heads=NUM_HEADS,\n",
    "      dropout=DROPOUT)\n",
    "\n",
    "#import h5py\n",
    "#with h5py.File('saved_weights.h5', 'w') as f:\n",
    "loaded_model.compile(optimizer=optimizer, loss=loss_function, metrics=[accuracy])\n",
    "loaded_model.load_weights('saved_weights.h5')"
   ]
  },
  {
   "cell_type": "code",
   "execution_count": 25,
   "id": "e3f3583c",
   "metadata": {
    "_cell_guid": "1edc6b4c-eea3-440e-94bc-f9ff473546fb",
    "_uuid": "cfd69d65-2a54-4238-915b-6d6cc73b0702",
    "collapsed": false,
    "execution": {
     "iopub.execute_input": "2024-08-02T10:48:43.147050Z",
     "iopub.status.busy": "2024-08-02T10:48:43.146648Z",
     "iopub.status.idle": "2024-08-02T10:48:44.105788Z",
     "shell.execute_reply": "2024-08-02T10:48:44.104016Z"
    },
    "jupyter": {
     "outputs_hidden": false
    },
    "papermill": {
     "duration": 1.036071,
     "end_time": "2024-08-02T10:48:44.109007",
     "exception": false,
     "start_time": "2024-08-02T10:48:43.072936",
     "status": "completed"
    },
    "tags": []
   },
   "outputs": [
    {
     "name": "stdout",
     "output_type": "stream",
     "text": [
      "Input: hi how are you \n",
      "Output: im going to dinner with my family\n"
     ]
    }
   ],
   "source": [
    "output = predict('hi how are you ', loaded_model)"
   ]
  },
  {
   "cell_type": "code",
   "execution_count": null,
   "id": "eececb4e",
   "metadata": {
    "_cell_guid": "11712450-bd3a-4e52-ab4e-4406b417cd54",
    "_uuid": "fdc9b8c9-57c7-4168-b943-1159caea1cd6",
    "collapsed": false,
    "jupyter": {
     "outputs_hidden": false
    },
    "papermill": {
     "duration": 0.071921,
     "end_time": "2024-08-02T10:48:44.253784",
     "exception": false,
     "start_time": "2024-08-02T10:48:44.181863",
     "status": "completed"
    },
    "tags": []
   },
   "outputs": [],
   "source": []
  }
 ],
 "metadata": {
  "kaggle": {
   "accelerator": "nvidiaTeslaT4",
   "dataSources": [
    {
     "datasetId": 2958426,
     "sourceId": 5094410,
     "sourceType": "datasetVersion"
    }
   ],
   "dockerImageVersionId": 30497,
   "isGpuEnabled": true,
   "isInternetEnabled": false,
   "language": "python",
   "sourceType": "notebook"
  },
  "kernelspec": {
   "display_name": "Python 3",
   "language": "python",
   "name": "python3"
  },
  "language_info": {
   "codemirror_mode": {
    "name": "ipython",
    "version": 3
   },
   "file_extension": ".py",
   "mimetype": "text/x-python",
   "name": "python",
   "nbconvert_exporter": "python",
   "pygments_lexer": "ipython3",
   "version": "3.10.10"
  },
  "papermill": {
   "default_parameters": {},
   "duration": 1432.344972,
   "end_time": "2024-08-02T10:48:47.933771",
   "environment_variables": {},
   "exception": null,
   "input_path": "__notebook__.ipynb",
   "output_path": "__notebook__.ipynb",
   "parameters": {},
   "start_time": "2024-08-02T10:24:55.588799",
   "version": "2.4.0"
  }
 },
 "nbformat": 4,
 "nbformat_minor": 5
}

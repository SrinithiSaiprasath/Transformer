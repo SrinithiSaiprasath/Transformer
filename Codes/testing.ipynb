{
 "cells": [
  {
   "cell_type": "code",
   "execution_count": 1,
   "metadata": {},
   "outputs": [
    {
     "name": "stderr",
     "output_type": "stream",
     "text": [
      "/workspaces/transformer/.venv/lib/python3.11/site-packages/tqdm/auto.py:21: TqdmWarning: IProgress not found. Please update jupyter and ipywidgets. See https://ipywidgets.readthedocs.io/en/stable/user_install.html\n",
      "  from .autonotebook import tqdm as notebook_tqdm\n",
      "2024-08-09 09:06:24.972947: I external/local_xla/xla/tsl/cuda/cudart_stub.cc:32] Could not find cuda drivers on your machine, GPU will not be used.\n",
      "2024-08-09 09:06:24.977297: I external/local_xla/xla/tsl/cuda/cudart_stub.cc:32] Could not find cuda drivers on your machine, GPU will not be used.\n",
      "2024-08-09 09:06:24.993089: E external/local_xla/xla/stream_executor/cuda/cuda_fft.cc:485] Unable to register cuFFT factory: Attempting to register factory for plugin cuFFT when one has already been registered\n",
      "2024-08-09 09:06:25.017771: E external/local_xla/xla/stream_executor/cuda/cuda_dnn.cc:8454] Unable to register cuDNN factory: Attempting to register factory for plugin cuDNN when one has already been registered\n",
      "2024-08-09 09:06:25.024939: E external/local_xla/xla/stream_executor/cuda/cuda_blas.cc:1452] Unable to register cuBLAS factory: Attempting to register factory for plugin cuBLAS when one has already been registered\n",
      "2024-08-09 09:06:25.043054: I tensorflow/core/platform/cpu_feature_guard.cc:210] This TensorFlow binary is optimized to use available CPU instructions in performance-critical operations.\n",
      "To enable the following instructions: AVX2 FMA, in other operations, rebuild TensorFlow with the appropriate compiler flags.\n",
      "2024-08-09 09:06:26.174357: W tensorflow/compiler/tf2tensorrt/utils/py_utils.cc:38] TF-TRT Warning: Could not find TensorRT\n"
     ]
    },
    {
     "name": "stdout",
     "output_type": "stream",
     "text": [
      "REPLICAS: 1\n",
      "Done\n",
      "Done\n",
      "Vocab size: 3650\n",
      "Number of samples: 3721\n",
      "Done\n",
      "Done\n",
      "Done\n",
      "Done\n",
      "Done\n",
      "Done\n",
      "Done\n",
      "Done\n",
      "Done\n",
      "Done\n",
      "Done\n"
     ]
    },
    {
     "data": {
      "text/html": [
       "<pre style=\"white-space:pre;overflow-x:auto;line-height:normal;font-family:Menlo,'DejaVu Sans Mono',consolas,'Courier New',monospace\"><span style=\"font-weight: bold\">Model: \"transformer\"</span>\n",
       "</pre>\n"
      ],
      "text/plain": [
       "\u001b[1mModel: \"transformer\"\u001b[0m\n"
      ]
     },
     "metadata": {},
     "output_type": "display_data"
    },
    {
     "data": {
      "text/html": [
       "<pre style=\"white-space:pre;overflow-x:auto;line-height:normal;font-family:Menlo,'DejaVu Sans Mono',consolas,'Courier New',monospace\">┏━━━━━━━━━━━━━━━━━━━━━┳━━━━━━━━━━━━━━━━━━━┳━━━━━━━━━━━━┳━━━━━━━━━━━━━━━━━━━┓\n",
       "┃<span style=\"font-weight: bold\"> Layer (type)        </span>┃<span style=\"font-weight: bold\"> Output Shape      </span>┃<span style=\"font-weight: bold\">    Param # </span>┃<span style=\"font-weight: bold\"> Connected to      </span>┃\n",
       "┡━━━━━━━━━━━━━━━━━━━━━╇━━━━━━━━━━━━━━━━━━━╇━━━━━━━━━━━━╇━━━━━━━━━━━━━━━━━━━┩\n",
       "│ inputs (<span style=\"color: #0087ff; text-decoration-color: #0087ff\">InputLayer</span>) │ (<span style=\"color: #00d7ff; text-decoration-color: #00d7ff\">None</span>, <span style=\"color: #00d7ff; text-decoration-color: #00d7ff\">None</span>)      │          <span style=\"color: #00af00; text-decoration-color: #00af00\">0</span> │ -                 │\n",
       "├─────────────────────┼───────────────────┼────────────┼───────────────────┤\n",
       "│ dec_inputs          │ (<span style=\"color: #00d7ff; text-decoration-color: #00d7ff\">None</span>, <span style=\"color: #00d7ff; text-decoration-color: #00d7ff\">None</span>)      │          <span style=\"color: #00af00; text-decoration-color: #00af00\">0</span> │ -                 │\n",
       "│ (<span style=\"color: #0087ff; text-decoration-color: #0087ff\">InputLayer</span>)        │                   │            │                   │\n",
       "├─────────────────────┼───────────────────┼────────────┼───────────────────┤\n",
       "│ enc_padding_mask    │ (<span style=\"color: #00d7ff; text-decoration-color: #00d7ff\">None</span>, <span style=\"color: #00af00; text-decoration-color: #00af00\">1</span>, <span style=\"color: #00af00; text-decoration-color: #00af00\">1</span>,      │          <span style=\"color: #00af00; text-decoration-color: #00af00\">0</span> │ inputs[<span style=\"color: #00af00; text-decoration-color: #00af00\">0</span>][<span style=\"color: #00af00; text-decoration-color: #00af00\">0</span>]      │\n",
       "│ (<span style=\"color: #0087ff; text-decoration-color: #0087ff\">Lambda</span>)            │ <span style=\"color: #00d7ff; text-decoration-color: #00d7ff\">None</span>)             │            │                   │\n",
       "├─────────────────────┼───────────────────┼────────────┼───────────────────┤\n",
       "│ encoder             │ (<span style=\"color: #00d7ff; text-decoration-color: #00d7ff\">None</span>, <span style=\"color: #00d7ff; text-decoration-color: #00d7ff\">None</span>, <span style=\"color: #00af00; text-decoration-color: #00af00\">512</span>) │ <span style=\"color: #00af00; text-decoration-color: #00af00\">20,783,104</span> │ inputs[<span style=\"color: #00af00; text-decoration-color: #00af00\">0</span>][<span style=\"color: #00af00; text-decoration-color: #00af00\">0</span>],     │\n",
       "│ (<span style=\"color: #0087ff; text-decoration-color: #0087ff\">Functional</span>)        │                   │            │ enc_padding_mask… │\n",
       "├─────────────────────┼───────────────────┼────────────┼───────────────────┤\n",
       "│ look_ahead_mask     │ (<span style=\"color: #00d7ff; text-decoration-color: #00d7ff\">None</span>, <span style=\"color: #00af00; text-decoration-color: #00af00\">1</span>, <span style=\"color: #00d7ff; text-decoration-color: #00d7ff\">None</span>,   │          <span style=\"color: #00af00; text-decoration-color: #00af00\">0</span> │ dec_inputs[<span style=\"color: #00af00; text-decoration-color: #00af00\">0</span>][<span style=\"color: #00af00; text-decoration-color: #00af00\">0</span>]  │\n",
       "│ (<span style=\"color: #0087ff; text-decoration-color: #0087ff\">Lambda</span>)            │ <span style=\"color: #00d7ff; text-decoration-color: #00d7ff\">None</span>)             │            │                   │\n",
       "├─────────────────────┼───────────────────┼────────────┼───────────────────┤\n",
       "│ dec_padding_mask    │ (<span style=\"color: #00d7ff; text-decoration-color: #00d7ff\">None</span>, <span style=\"color: #00af00; text-decoration-color: #00af00\">1</span>, <span style=\"color: #00af00; text-decoration-color: #00af00\">1</span>,      │          <span style=\"color: #00af00; text-decoration-color: #00af00\">0</span> │ inputs[<span style=\"color: #00af00; text-decoration-color: #00af00\">0</span>][<span style=\"color: #00af00; text-decoration-color: #00af00\">0</span>]      │\n",
       "│ (<span style=\"color: #0087ff; text-decoration-color: #0087ff\">Lambda</span>)            │ <span style=\"color: #00d7ff; text-decoration-color: #00d7ff\">None</span>)             │            │                   │\n",
       "├─────────────────────┼───────────────────┼────────────┼───────────────────┤\n",
       "│ decoder             │ (<span style=\"color: #00d7ff; text-decoration-color: #00d7ff\">None</span>, <span style=\"color: #00d7ff; text-decoration-color: #00d7ff\">None</span>, <span style=\"color: #00af00; text-decoration-color: #00af00\">512</span>) │ <span style=\"color: #00af00; text-decoration-color: #00af00\">27,092,992</span> │ dec_inputs[<span style=\"color: #00af00; text-decoration-color: #00af00\">0</span>][<span style=\"color: #00af00; text-decoration-color: #00af00\">0</span>], │\n",
       "│ (<span style=\"color: #0087ff; text-decoration-color: #0087ff\">Functional</span>)        │                   │            │ encoder[<span style=\"color: #00af00; text-decoration-color: #00af00\">0</span>][<span style=\"color: #00af00; text-decoration-color: #00af00\">0</span>],    │\n",
       "│                     │                   │            │ look_ahead_mask[<span style=\"color: #00af00; text-decoration-color: #00af00\">…</span> │\n",
       "│                     │                   │            │ dec_padding_mask… │\n",
       "├─────────────────────┼───────────────────┼────────────┼───────────────────┤\n",
       "│ outputs (<span style=\"color: #0087ff; text-decoration-color: #0087ff\">Dense</span>)     │ (<span style=\"color: #00d7ff; text-decoration-color: #00d7ff\">None</span>, <span style=\"color: #00d7ff; text-decoration-color: #00d7ff\">None</span>,      │  <span style=\"color: #00af00; text-decoration-color: #00af00\">1,872,450</span> │ decoder[<span style=\"color: #00af00; text-decoration-color: #00af00\">0</span>][<span style=\"color: #00af00; text-decoration-color: #00af00\">0</span>]     │\n",
       "│                     │ <span style=\"color: #00af00; text-decoration-color: #00af00\">3650</span>)             │            │                   │\n",
       "└─────────────────────┴───────────────────┴────────────┴───────────────────┘\n",
       "</pre>\n"
      ],
      "text/plain": [
       "┏━━━━━━━━━━━━━━━━━━━━━┳━━━━━━━━━━━━━━━━━━━┳━━━━━━━━━━━━┳━━━━━━━━━━━━━━━━━━━┓\n",
       "┃\u001b[1m \u001b[0m\u001b[1mLayer (type)       \u001b[0m\u001b[1m \u001b[0m┃\u001b[1m \u001b[0m\u001b[1mOutput Shape     \u001b[0m\u001b[1m \u001b[0m┃\u001b[1m \u001b[0m\u001b[1m   Param #\u001b[0m\u001b[1m \u001b[0m┃\u001b[1m \u001b[0m\u001b[1mConnected to     \u001b[0m\u001b[1m \u001b[0m┃\n",
       "┡━━━━━━━━━━━━━━━━━━━━━╇━━━━━━━━━━━━━━━━━━━╇━━━━━━━━━━━━╇━━━━━━━━━━━━━━━━━━━┩\n",
       "│ inputs (\u001b[38;5;33mInputLayer\u001b[0m) │ (\u001b[38;5;45mNone\u001b[0m, \u001b[38;5;45mNone\u001b[0m)      │          \u001b[38;5;34m0\u001b[0m │ -                 │\n",
       "├─────────────────────┼───────────────────┼────────────┼───────────────────┤\n",
       "│ dec_inputs          │ (\u001b[38;5;45mNone\u001b[0m, \u001b[38;5;45mNone\u001b[0m)      │          \u001b[38;5;34m0\u001b[0m │ -                 │\n",
       "│ (\u001b[38;5;33mInputLayer\u001b[0m)        │                   │            │                   │\n",
       "├─────────────────────┼───────────────────┼────────────┼───────────────────┤\n",
       "│ enc_padding_mask    │ (\u001b[38;5;45mNone\u001b[0m, \u001b[38;5;34m1\u001b[0m, \u001b[38;5;34m1\u001b[0m,      │          \u001b[38;5;34m0\u001b[0m │ inputs[\u001b[38;5;34m0\u001b[0m][\u001b[38;5;34m0\u001b[0m]      │\n",
       "│ (\u001b[38;5;33mLambda\u001b[0m)            │ \u001b[38;5;45mNone\u001b[0m)             │            │                   │\n",
       "├─────────────────────┼───────────────────┼────────────┼───────────────────┤\n",
       "│ encoder             │ (\u001b[38;5;45mNone\u001b[0m, \u001b[38;5;45mNone\u001b[0m, \u001b[38;5;34m512\u001b[0m) │ \u001b[38;5;34m20,783,104\u001b[0m │ inputs[\u001b[38;5;34m0\u001b[0m][\u001b[38;5;34m0\u001b[0m],     │\n",
       "│ (\u001b[38;5;33mFunctional\u001b[0m)        │                   │            │ enc_padding_mask… │\n",
       "├─────────────────────┼───────────────────┼────────────┼───────────────────┤\n",
       "│ look_ahead_mask     │ (\u001b[38;5;45mNone\u001b[0m, \u001b[38;5;34m1\u001b[0m, \u001b[38;5;45mNone\u001b[0m,   │          \u001b[38;5;34m0\u001b[0m │ dec_inputs[\u001b[38;5;34m0\u001b[0m][\u001b[38;5;34m0\u001b[0m]  │\n",
       "│ (\u001b[38;5;33mLambda\u001b[0m)            │ \u001b[38;5;45mNone\u001b[0m)             │            │                   │\n",
       "├─────────────────────┼───────────────────┼────────────┼───────────────────┤\n",
       "│ dec_padding_mask    │ (\u001b[38;5;45mNone\u001b[0m, \u001b[38;5;34m1\u001b[0m, \u001b[38;5;34m1\u001b[0m,      │          \u001b[38;5;34m0\u001b[0m │ inputs[\u001b[38;5;34m0\u001b[0m][\u001b[38;5;34m0\u001b[0m]      │\n",
       "│ (\u001b[38;5;33mLambda\u001b[0m)            │ \u001b[38;5;45mNone\u001b[0m)             │            │                   │\n",
       "├─────────────────────┼───────────────────┼────────────┼───────────────────┤\n",
       "│ decoder             │ (\u001b[38;5;45mNone\u001b[0m, \u001b[38;5;45mNone\u001b[0m, \u001b[38;5;34m512\u001b[0m) │ \u001b[38;5;34m27,092,992\u001b[0m │ dec_inputs[\u001b[38;5;34m0\u001b[0m][\u001b[38;5;34m0\u001b[0m], │\n",
       "│ (\u001b[38;5;33mFunctional\u001b[0m)        │                   │            │ encoder[\u001b[38;5;34m0\u001b[0m][\u001b[38;5;34m0\u001b[0m],    │\n",
       "│                     │                   │            │ look_ahead_mask[\u001b[38;5;34m…\u001b[0m │\n",
       "│                     │                   │            │ dec_padding_mask… │\n",
       "├─────────────────────┼───────────────────┼────────────┼───────────────────┤\n",
       "│ outputs (\u001b[38;5;33mDense\u001b[0m)     │ (\u001b[38;5;45mNone\u001b[0m, \u001b[38;5;45mNone\u001b[0m,      │  \u001b[38;5;34m1,872,450\u001b[0m │ decoder[\u001b[38;5;34m0\u001b[0m][\u001b[38;5;34m0\u001b[0m]     │\n",
       "│                     │ \u001b[38;5;34m3650\u001b[0m)             │            │                   │\n",
       "└─────────────────────┴───────────────────┴────────────┴───────────────────┘\n"
      ]
     },
     "metadata": {},
     "output_type": "display_data"
    },
    {
     "data": {
      "text/html": [
       "<pre style=\"white-space:pre;overflow-x:auto;line-height:normal;font-family:Menlo,'DejaVu Sans Mono',consolas,'Courier New',monospace\"><span style=\"font-weight: bold\"> Total params: </span><span style=\"color: #00af00; text-decoration-color: #00af00\">49,748,546</span> (189.78 MB)\n",
       "</pre>\n"
      ],
      "text/plain": [
       "\u001b[1m Total params: \u001b[0m\u001b[38;5;34m49,748,546\u001b[0m (189.78 MB)\n"
      ]
     },
     "metadata": {},
     "output_type": "display_data"
    },
    {
     "data": {
      "text/html": [
       "<pre style=\"white-space:pre;overflow-x:auto;line-height:normal;font-family:Menlo,'DejaVu Sans Mono',consolas,'Courier New',monospace\"><span style=\"font-weight: bold\"> Trainable params: </span><span style=\"color: #00af00; text-decoration-color: #00af00\">49,748,546</span> (189.78 MB)\n",
       "</pre>\n"
      ],
      "text/plain": [
       "\u001b[1m Trainable params: \u001b[0m\u001b[38;5;34m49,748,546\u001b[0m (189.78 MB)\n"
      ]
     },
     "metadata": {},
     "output_type": "display_data"
    },
    {
     "data": {
      "text/html": [
       "<pre style=\"white-space:pre;overflow-x:auto;line-height:normal;font-family:Menlo,'DejaVu Sans Mono',consolas,'Courier New',monospace\"><span style=\"font-weight: bold\"> Non-trainable params: </span><span style=\"color: #00af00; text-decoration-color: #00af00\">0</span> (0.00 B)\n",
       "</pre>\n"
      ],
      "text/plain": [
       "\u001b[1m Non-trainable params: \u001b[0m\u001b[38;5;34m0\u001b[0m (0.00 B)\n"
      ]
     },
     "metadata": {},
     "output_type": "display_data"
    },
    {
     "name": "stdout",
     "output_type": "stream",
     "text": [
      "Done\n"
     ]
    }
   ],
   "source": [
    "from PyPDF2 import PdfReader\n",
    "from transformers import AutoTokenizer\n",
    "from Transformer import * \n"
   ]
  },
  {
   "cell_type": "code",
   "execution_count": 2,
   "metadata": {},
   "outputs": [],
   "source": [
    "pdf_path = r\"/workspaces/transformer/Code-of-Business-conduct_Updated_2021.pdf\""
   ]
  },
  {
   "cell_type": "code",
   "execution_count": 3,
   "metadata": {},
   "outputs": [],
   "source": [
    "def extract_text_from_pdf(pdf_path):\n",
    "    reader = PdfReader(pdf_path)\n",
    "    text = \"\"\n",
    "    for page in reader.pages:\n",
    "        text += page.extract_text()\n",
    "    return text\n"
   ]
  },
  {
   "cell_type": "code",
   "execution_count": 4,
   "metadata": {},
   "outputs": [],
   "source": [
    "pdf_text = extract_text_from_pdf(pdf_path)"
   ]
  },
  {
   "cell_type": "code",
   "execution_count": 5,
   "metadata": {},
   "outputs": [
    {
     "data": {
      "text/plain": [
       "\"Redington (may be referred as Company) believes in transparency, ethical conduct, \\nhonesty & integrity while transacting with all stak eholders in accomplishing its vision \\nand objectives. This document details/specifies ess ential requirements which all our \\nemployees are expected to be compliant with at all times in all dealings with any of \\nour partners, Government or any outside agencies an d within the Company. \\n  \\nThe code of conduct shall be binding for all employ ees (may be referred as You) in its \\ndealings with inside or outside the organization. A ll concerned employees are also \\nexpected to abide by the vendor code of conduct for  the brands represented by them. \\n  \\nWORKPLACE CONDUCT  \\n  \\nSafe and Healthy Work Environment  \\nRedington is committed to provide each and every em ployee a safe environment to \\nwork and have a zero tolerance approach towards any  kind of workplace violence. We \\nexpect all employees to treat their colleagues with  dignity, professionalism and \\nrespect. Each employee must follow all safety guide lines as may be prescribed and \\nreport any unsafe conditions or accidents. Any acts  or threats of violence towards \\nanother person or Company property must be reported  promptly to the Human \\nResources/ Administration department immediately. \\n  \\nTobacco, Alcohol & Drug Free Workplace  \\nRedington adheres to Tobacco, Alcohol and Drug Free  Workplace policy, which aims \\nto promote health, safety and well-being of our emp loyees.  Employees are expected \\nto abide by the same at all times in the workplace.  In case an employee would want to \\nsmoke cigarettes, he/she should only use designated  outdoor areas that Company or \\nbuilding management, at its discretion, has earmark ed as such. \\n  \\nEmployees are strictly prohibited from consuming, c arrying or distributing drug, \\nalcohol or any intoxicant substance during working hours and at any time in the \\nCompany premises or outside the Company at all time s while conducting business on \\nbehalf of the Company. \\n  \\nAll Employees working or visiting any client locati ons must strictly follow the client’s \\nestablished policies pertaining to the above said s ubject. \\n  \\nIn case of any violation of the above, the employee  shall be subject to strict \\ndisciplinary action including termination of the em ployment. \\n  \\n \\n  \\nDress Code  \\n \\nWe expect the employees to be in formals while atte nding office or any meetings \\nwherein the employee is representing the Company. S mart casuals are allowed only \\nduring last day of the week e.g. Thursday where the  weekend is on Friday and \\nSaturday. \\n  \\nFair Employment Practices and Sexual Harassment  \\nRedington practices equal opportunity & a zero tole rance approach on any kind of \\ndiscrimination whether engaged by an employee or ot her person with whom the \\nemployee may contact as part of their employment.  The Company do \\nnot tolerate discrimination based on any considerat ions and all employees are treated \\nthe same with respect to their qualification, exper ience, nationality etc. All business \\ndecisions shall be taken on merit and shall not be due to any other considerations \\nincluding race, religion, nationality, gender etc. \\n  \\nIt is expected that all employees shall abide by th e company policy as notified from \\ntime to time & accordingly make decisions pertainin g to recruitment, employment, \\npromotion, transfer, pay and benefits, training, la y-off and termination. \\n  \\nNo Harassment (verbal/ physical)/Misbehaviour/Discr imination  \\nSexual harassment is an unwelcome sexual advance, u nwelcome request for sexual \\nfavours or other unwelcome conduct of a sexual natu re which makes a person feel \\noffended, humiliated and/or intimidated, where a re asonable person would anticipate \\nthat reaction in the circumstances or creates an in timidating, hostile, or offensive work \\nenvironment. \\n \\nEmployees should not engage in any form of harassme nt in the workplace, including \\nverbal harassment (epithets, derogatory statements,  slurs), physical harassment \\n(hitting, pushing or other aggressive physical cont act), visual harassment (posters, \\ncartoons, drawings, pornographic material) and any kind of sexual harassment. \\n  \\nAny violation of the same shall be reported to the Human resources department. Any \\nemployee found to be in violation or offending shal l be subject to necessary \\ndisciplinary proceedings including termination of e mployment. \\n  \\nCONFIDENTIALITY  \\n  \\nConfidential information shall include all such inf ormation relating to the vendors, \\ncustomers, markets, business strategies, financials , policies and procedures and all such other information as may be deemed to be confi dential or shall be treated as \\nconfidential by any ordinary person. \\n  \\nYou must safeguard confidential information of the Company by not transferring, \\npublishing, using, or disclosing it to any party ot her than as may be required in the \\nordinary course of business. Materials that contain  confidential infrmation or that are \\nprotected by privacy standards should be stored sec urely and shared only internally \\nwith those employees with a need to know. You shall  not without express \\nauthorization provide any information designated as  confidential to any third parties. \\nYou shall also not disclose any confidential inform ation which you may be privy to \\ndue to your employment with the Company after your separation from the Company \\nfor a period of 3 years. \\n  \\nIn case of any violation, you shall be held respons ible and disciplinary action shall be \\ntaken against you. \\n  \\nUSE OF INFORMATION TECHNOLOGY AND SOCIAL MEDIA  \\n  \\nOur information technology systems are essential bu siness tools for our work. As an \\nemployee you have the responsibility to use the sam e appropriately within the law. \\nThe usage of the system or information network shou ld be in accordance with good \\nbusiness practice and in accordance with interest o f the Company. \\n  \\nWhile posting any posts or update on the social med ia, you should refrain from \\nposting any posts which are illegal, abusive, defam e or not in accordance with the \\nlaw. Also you should refrain from posting any comme nts on the social media with \\nrespect to the Company to give an impression to the  outside world that opinions \\nexpressed by you are the opinion of the Company. \\n  \\nYou shall also ensure that any of your personal pos ts in the social media does not \\ncreate any risks to the Company or to the group.  Y ou shall refrain from posting any \\nissues/matters on social media on any religious, po litical or local customs/practices. In \\ncase of any violation of this, the Company shall ta ke appropriate disciplinary action \\nagainst the employee and the employee shall be pers onally responsible for such \\ncomments made. \\n  \\nCONFLICT OF INTEREST  \\n  \\nThe term “conflict of interest” describes any circu mstance that could cast doubt on \\nyour ability to act with total objectivity with reg ard to the business. A conflict of \\ninterest occurs when your personal, financial, or f amily interests or relationships interfere, or appear to interfere, with your abilit y to be objective and act in the best \\ninterest of the Company. Employees are expected to have complete attention towards \\ntheir work. \\n  \\nThe Company wants its employees to be free from any  such conflict of interest.  You \\nshall always keep the Company’s interest in mind an d your activities outside of work \\nshould never interfere with your ability to make th e right decisions. You also must \\navoid situations that conflict or even appear to co nflict with the best interest of the \\nCompany. In case of any such conflict of interest, the concerned employee shall \\ninform the Company or provide a declaration letter.  The Company shall have the right \\nto seek a declaration from the employee at such int ervals as it may deem appropriate. \\n  \\nACCURATE FINANCIAL RECORDS AND BOOK KEEPING  \\n  \\nOur stakeholders rely on our financials for making an informed decision with respect \\nto investment or business decisions. We maintain ou r accounts accurately which \\nreflect the current state of affairs of the Company  and also in accordance with the \\ndocument retention policy & applicable laws. No Emp loyee may make false, \\nmisleading, incomplete, inaccurate or artificial en tries in the books, records or \\naccounts of the company nor establish or maintain a ny undisclosed or unrecorded \\nfund or asset for any purpose. \\n  \\nYou shall not engage in any activities wherein the records are posted without proper \\nauthorization or against our accounting policy. \\n  \\nPROTECTION OF COMPANY ASSETS  \\n  \\nIt shall be your duty to ensure that the Company’s assets and information are always \\nprotected. All the Company assets and information s hall be used only for business \\npurposes. Each Party has a responsibility to use an d maintain the Company assets with \\ncare and to guard against waste and abuse. \\n  \\nThe Company’s assets must only be used for the busi ness-related aspects or for any \\nother use as duly notified and authorized by the Co mpany. In the event that you \\nundertake or execute any modification, alteration a nd/or up gradation of asset of the \\nCompany, such modified, altered, upgraded asset sha ll also belong exclusively to \\nthe Company. Upon the termination of employment or service engagement with the \\nCompany, you must hand over all the Company assets in its possession to the \\nimmediate Reporting Manager or any such person as m ay be designated by the \\nCompany from time to time for this purpose. The Com pany further retains the \\nabsolute right to restrict, monitor, modify and del egate the use of its assets by any Party. The Party will be solely responsible for the  use of all assets of the Company \\nthat have been entrusted to its custody by the Comp any and no acts of commission or \\nomission on behalf of the Company shall constitute a waiver of such responsibility or \\nliability on its part. \\n  \\nDuring the course of employment or work related eng agement with the Company, you \\ncould have access to a wide variety of data and doc uments, some of which may have \\nbeen created by you alone or as a part of a team. T he Company shall at all times retain \\nabsolute ownership of all such content, documents a nd/or data and you shall not copy, \\ntransmit, remove or alter such data except in pursu ance of its official duties. \\n  \\nYou could have access to Company or customer or par tner-provided messaging \\nsystems and tools that are provided to facilitate b usiness. These systems and tools \\ninclude e-mail, fax, instant messaging, telephones,  voice-mail, mobile devices, and \\nfile sharing via Internet and internal networks. Al l information sent or received using \\nsuch messaging systems is the property of specific Company or customer or partner, \\nand may be monitored by them. \\n \\nThe tone and content of all messaging is expected t o be business-like and to reflect \\nwell on the Company. \\n  \\nDATA PRIVACY  \\n  \\nYou shall ensure that any data collected with respe ct to any individuals including our \\ncustomers or end users shall be adequately protecte d and not disclosed without \\nobtaining their consents. You shall also ensure tha t all applicable regulations in the \\ncountry where you operate shall be complied with re spect to any data protection \\nor privacy regulations. \\n  \\nINTELLECTUAL PROPERTY RIGHTS  \\n  \\nRedington respects the intellectual property rights  of others and expects others to \\nrespect its intellectual property rights. You are r esponsible for protecting Redington’s \\nintellectual property rights. An important element of such protection is maintaining \\nthe confidentiality of Redington's trade secrets an d proprietary information. \\nYou must respect the intellectual property of Redin gton and not use or reproduce \\ncopyrighted software, documentation, or other mater ials without written permission. \\nIn the course of working with or for Redington, you  must not use \\nproprietary information, patented technology or cop yrighted software, documentation, \\nor other materials of third parties without authori zation. \\n  INSIDER TRADING  \\n  \\nIn case You possess any material, non-public inform ation (“insider information”), \\nYou shall not trade in Redington’s securities or se curities of any other company to \\nwhich such information pertains. You may not engage  in any other action or take \\nadvantage of or pass on to others any material info rmation known as an employee of \\nRedington until it has been disclosed to the genera l public. These restrictions also \\napply to your spouses and family members. You are e xpected to familiarize yourself \\nwith these laws and consult qualified counsel for r elated advice. \\n  \\nANTITRUST & COMPETITION LAWS  \\n  \\nRedington is committed to do its business in a fair , transparent and ethical manner. \\nWe outperform our competitors in a fair and honest manner without use of any illegal \\nor anti-competitive practices. \\n  \\nAntitrust or competition laws enable to protect com petition in the market and the \\nconsumer receive its benefits. Any kind of violatio n of such laws including any unfair \\nor deceptive practices shall have huge ramification s including heavy penalties and \\nreputational risks for the Company. \\n  \\nYou must ensure that the business is conducted in t he fair and transparent manner and \\nwithout indulging in any unfair trade practices or deceptive manner including price \\nfixing with competitors, boycotts, rigging. These p ractices are against the public \\npolicy and also against Redington’s values and prin ciples. \\n  \\nYou are also not supposed to provide any false or m isleading information about the \\nproducts which you represent in the market or makin g any untrue statements about the \\nproducts or making any claims without any facts or substance. \\n  \\nEXPORT CONTROL LAWS  \\n  \\nRedington is committed to comply with all applicabl e laws and regulations including \\nany trade restriction or export control laws. \\n  \\nEmployee shall note and understand that Redington d eal with products, including \\nhardware, software, technology, that may be subject  to USA and other government \\nexport control regulations which restricts/regulate s export/-re-export obligations. \\n  It shall be understood that there are restrictions on products/services transactions with \\nUS government sanctioned parties – companies, firms  or individuals named in the \\nfollowing: \\n  \\n1. Denied Parties List, \\n2. List of Specifically Designated Nationals, \\n3. Blocked Persons/Entity List, \\n4. Debarred Parties. \\n  \\nWe shall be fully compliant with such restrictions.  \\n  \\nWe shall not service, quote or accept an order for US/(Other countries) products from \\nabove mentioned parties. \\nWe shall be cognizant of the fact that goods and te chnologies sold by us shall not be \\nused for the purpose of nuclear weapons, explosive devices, chemical or biological \\nweapons including key components of production of s uch weapons and for purpose of \\nmissiles systems, to deliver weapons of mass destru ction. \\n  \\nBRIBERY & CORRUPTION  \\n  \\nIt is our policy to conduct all our business in an honest and ethical manner and in \\ncompliance with all relevant laws. We take a zero-t olerance approach to all matters \\ninvolving dishonesty, bribery and corruption, lobby ing with Government officials and \\nare committed to act professionally, fairly and wit h integrity in all our business \\ndealings including any Governmental entities and re lationships wherever we operate \\nand implementing and enforcing effective systems to  counter dishonesty, bribery and \\ncorruption. \\n  \\nWe must ensure that we are in compliance with all l aws relevant to countering bribery \\nand corruption in all the jurisdictions in which we  operate which includes, but is not \\nlimited to, the UAE Federal Law No. 3/1987 (as amen ded) (commonly known as the \\nUAE Penal Code), the US Foreign Corrupt Practices A ct, the UK Bribery Act 2010 \\nand any and all other anti-corruption and anti-brib ery laws, regulations and resolutions \\nwhich are applicable, in force and relevant in any and all of the jurisdictions in which \\nwe operate. \\n  \\nGIFTS AND HOSPITALITY  \\n  \\nEmployees are expected to adhere to the gift policy  and not to accept any gifts or \\nhospitality which if disclosed in public shall act as an embarrassment. Employees must be aware that it is not \\nprohibited to accept normal and appropriate hospita lity (given and received) to or \\nfrom third parties. \\n  \\nThe giving or receipt of gifts is not prohibited, i f the following requirements are met: \\n¬ As long as the gift is worth not more than USD 30/ -. \\n¬ It is not made with the intention of influencing a  third party to obtain or retain \\nbusiness or a business  \\n__ advantage, or to reward the provision or retenti on of business or a business \\nadvantage, or in explicit or         implicit excha nge for favours or benefits; \\n¬ It complies with local law; \\n¬ It is given in our name, not in your name; \\n¬ It does not include cash or a cash equivalent (suc h as gift certificates or vouchers); \\n¬ It is appropriate in the circumstances; \\n¬ Taking into account the reason for the gift, it is  of an appropriate type and value and \\ngiven at an appropriate \\n        time; \\n¬ It is given openly, not secretly; and \\n¬ Gifts should not be offered to, or accepted from, government officials or \\nrepresentatives, or politicians or \\n        political parties. \\n  \\nWe appreciate that the practice of giving business gifts varies between countries and \\nregions and what may be normal and acceptable in on e region may not be in another. \\nThe test to be applied is whether in all the circum stances the gift or hospitality is \\nreasonable and justifiable. The intention behind th e gift should always be considered. \\n  \\nREPORTING OF VIOLATIONS  \\n  \\nYou shall report any conduct, which you believe in good faith to be any actual or \\npotential violation of this code of conduct. \\n  \\nRedington has an open door policy with regard to an y such queries or report and shall \\nbe treated with utmost confidentiality. You may rep ort any incident either to the Legal \\nCounsel or shall send it to whistleblowerdesk@redingtongulf.com  \\n \\nAlternatively, you may contact the third party whis tleblower hotline managed by \\nSafecall as per the below contact details: \\n \\n  \\n Whistle Blower Hotline: \\n \\nAlternatively, you may also reach out to Safecall, an independent reporting service \\nwho would receive and process such feedback in a co nfidential manner.  \\n \\nSafecall provides a 24x7 service.  You may report a ny wrongdoing by calling them on \\nthe numbers listed below. \\n \\nS.No  Country  Calling Number  \\n1 UAE  8000 4413376  \\n2 KSA  800 8442067  \\n3 Qatar  8000 250  \\n4 Kuwait  +44 191 516 7756  \\n5 Bahrain  8000 4264  \\n6 Oman  800 72323  \\n7 Egypt  0800 000 0059  \\n8 Lebanon  +44 191 516 7756  \\n9 Kazakhstan  +44 191 516 7756  \\n10  Jordan  +44 191 516 7756  \\n11  India  000 800 4401 256  \\n12  Nigeria  +44 191 516 7764  \\n13  Ghana  +233 201437196  \\n14  Ivory Coast  +44 191 516 7764  \\n15  Senegal  +221 33 825 91 13  \\n16  Morocco  +44 191 516 7764  \\n17  Algeria  +44 191 516 7764  \\n18  Cameroon  +44 191 516 7764  \\n19  Kenya  +44 191 516 7764  \\n20  Uganda  +44 191 516 7764  \\n21  Tanzania  +44 191 516 7764  \\n22  Rwanda  +44 191 516 7764  \\n23  Ethiopia  +44 191 516 7764  \\n24  South Africa  0800 990243  \\n \\n \\nThe concerned employee shall also contact the vendo rs’s whistleblower hotline as \\nwell for the brands represented by them. \""
      ]
     },
     "execution_count": 5,
     "metadata": {},
     "output_type": "execute_result"
    }
   ],
   "source": [
    "pdf_text\n"
   ]
  },
  {
   "cell_type": "code",
   "execution_count": 6,
   "metadata": {},
   "outputs": [],
   "source": [
    "def preprocess_text(text):\n",
    "    # Basic preprocessing: removing unwanted characters, extra spaces, etc.\n",
    "    text = text.replace(\"\\n\", \" \").replace(\"\\t\", \" \")\n",
    "    return text.strip()"
   ]
  },
  {
   "cell_type": "code",
   "execution_count": 7,
   "metadata": {},
   "outputs": [],
   "source": [
    "processed_text = preprocess_text(pdf_text)"
   ]
  },
  {
   "cell_type": "code",
   "execution_count": 8,
   "metadata": {},
   "outputs": [
    {
     "data": {
      "text/plain": [
       "\"Redington (may be referred as Company) believes in transparency, ethical conduct,  honesty & integrity while transacting with all stak eholders in accomplishing its vision  and objectives. This document details/specifies ess ential requirements which all our  employees are expected to be compliant with at all times in all dealings with any of  our partners, Government or any outside agencies an d within the Company.     The code of conduct shall be binding for all employ ees (may be referred as You) in its  dealings with inside or outside the organization. A ll concerned employees are also  expected to abide by the vendor code of conduct for  the brands represented by them.     WORKPLACE CONDUCT      Safe and Healthy Work Environment   Redington is committed to provide each and every em ployee a safe environment to  work and have a zero tolerance approach towards any  kind of workplace violence. We  expect all employees to treat their colleagues with  dignity, professionalism and  respect. Each employee must follow all safety guide lines as may be prescribed and  report any unsafe conditions or accidents. Any acts  or threats of violence towards  another person or Company property must be reported  promptly to the Human  Resources/ Administration department immediately.     Tobacco, Alcohol & Drug Free Workplace   Redington adheres to Tobacco, Alcohol and Drug Free  Workplace policy, which aims  to promote health, safety and well-being of our emp loyees.  Employees are expected  to abide by the same at all times in the workplace.  In case an employee would want to  smoke cigarettes, he/she should only use designated  outdoor areas that Company or  building management, at its discretion, has earmark ed as such.     Employees are strictly prohibited from consuming, c arrying or distributing drug,  alcohol or any intoxicant substance during working hours and at any time in the  Company premises or outside the Company at all time s while conducting business on  behalf of the Company.     All Employees working or visiting any client locati ons must strictly follow the client’s  established policies pertaining to the above said s ubject.     In case of any violation of the above, the employee  shall be subject to strict  disciplinary action including termination of the em ployment.          Dress Code     We expect the employees to be in formals while atte nding office or any meetings  wherein the employee is representing the Company. S mart casuals are allowed only  during last day of the week e.g. Thursday where the  weekend is on Friday and  Saturday.     Fair Employment Practices and Sexual Harassment   Redington practices equal opportunity & a zero tole rance approach on any kind of  discrimination whether engaged by an employee or ot her person with whom the  employee may contact as part of their employment.  The Company do  not tolerate discrimination based on any considerat ions and all employees are treated  the same with respect to their qualification, exper ience, nationality etc. All business  decisions shall be taken on merit and shall not be due to any other considerations  including race, religion, nationality, gender etc.     It is expected that all employees shall abide by th e company policy as notified from  time to time & accordingly make decisions pertainin g to recruitment, employment,  promotion, transfer, pay and benefits, training, la y-off and termination.     No Harassment (verbal/ physical)/Misbehaviour/Discr imination   Sexual harassment is an unwelcome sexual advance, u nwelcome request for sexual  favours or other unwelcome conduct of a sexual natu re which makes a person feel  offended, humiliated and/or intimidated, where a re asonable person would anticipate  that reaction in the circumstances or creates an in timidating, hostile, or offensive work  environment.    Employees should not engage in any form of harassme nt in the workplace, including  verbal harassment (epithets, derogatory statements,  slurs), physical harassment  (hitting, pushing or other aggressive physical cont act), visual harassment (posters,  cartoons, drawings, pornographic material) and any kind of sexual harassment.     Any violation of the same shall be reported to the Human resources department. Any  employee found to be in violation or offending shal l be subject to necessary  disciplinary proceedings including termination of e mployment.     CONFIDENTIALITY      Confidential information shall include all such inf ormation relating to the vendors,  customers, markets, business strategies, financials , policies and procedures and all such other information as may be deemed to be confi dential or shall be treated as  confidential by any ordinary person.     You must safeguard confidential information of the Company by not transferring,  publishing, using, or disclosing it to any party ot her than as may be required in the  ordinary course of business. Materials that contain  confidential infrmation or that are  protected by privacy standards should be stored sec urely and shared only internally  with those employees with a need to know. You shall  not without express  authorization provide any information designated as  confidential to any third parties.  You shall also not disclose any confidential inform ation which you may be privy to  due to your employment with the Company after your separation from the Company  for a period of 3 years.     In case of any violation, you shall be held respons ible and disciplinary action shall be  taken against you.     USE OF INFORMATION TECHNOLOGY AND SOCIAL MEDIA      Our information technology systems are essential bu siness tools for our work. As an  employee you have the responsibility to use the sam e appropriately within the law.  The usage of the system or information network shou ld be in accordance with good  business practice and in accordance with interest o f the Company.     While posting any posts or update on the social med ia, you should refrain from  posting any posts which are illegal, abusive, defam e or not in accordance with the  law. Also you should refrain from posting any comme nts on the social media with  respect to the Company to give an impression to the  outside world that opinions  expressed by you are the opinion of the Company.     You shall also ensure that any of your personal pos ts in the social media does not  create any risks to the Company or to the group.  Y ou shall refrain from posting any  issues/matters on social media on any religious, po litical or local customs/practices. In  case of any violation of this, the Company shall ta ke appropriate disciplinary action  against the employee and the employee shall be pers onally responsible for such  comments made.     CONFLICT OF INTEREST      The term “conflict of interest” describes any circu mstance that could cast doubt on  your ability to act with total objectivity with reg ard to the business. A conflict of  interest occurs when your personal, financial, or f amily interests or relationships interfere, or appear to interfere, with your abilit y to be objective and act in the best  interest of the Company. Employees are expected to have complete attention towards  their work.     The Company wants its employees to be free from any  such conflict of interest.  You  shall always keep the Company’s interest in mind an d your activities outside of work  should never interfere with your ability to make th e right decisions. You also must  avoid situations that conflict or even appear to co nflict with the best interest of the  Company. In case of any such conflict of interest, the concerned employee shall  inform the Company or provide a declaration letter.  The Company shall have the right  to seek a declaration from the employee at such int ervals as it may deem appropriate.     ACCURATE FINANCIAL RECORDS AND BOOK KEEPING      Our stakeholders rely on our financials for making an informed decision with respect  to investment or business decisions. We maintain ou r accounts accurately which  reflect the current state of affairs of the Company  and also in accordance with the  document retention policy & applicable laws. No Emp loyee may make false,  misleading, incomplete, inaccurate or artificial en tries in the books, records or  accounts of the company nor establish or maintain a ny undisclosed or unrecorded  fund or asset for any purpose.     You shall not engage in any activities wherein the records are posted without proper  authorization or against our accounting policy.     PROTECTION OF COMPANY ASSETS      It shall be your duty to ensure that the Company’s assets and information are always  protected. All the Company assets and information s hall be used only for business  purposes. Each Party has a responsibility to use an d maintain the Company assets with  care and to guard against waste and abuse.     The Company’s assets must only be used for the busi ness-related aspects or for any  other use as duly notified and authorized by the Co mpany. In the event that you  undertake or execute any modification, alteration a nd/or up gradation of asset of the  Company, such modified, altered, upgraded asset sha ll also belong exclusively to  the Company. Upon the termination of employment or service engagement with the  Company, you must hand over all the Company assets in its possession to the  immediate Reporting Manager or any such person as m ay be designated by the  Company from time to time for this purpose. The Com pany further retains the  absolute right to restrict, monitor, modify and del egate the use of its assets by any Party. The Party will be solely responsible for the  use of all assets of the Company  that have been entrusted to its custody by the Comp any and no acts of commission or  omission on behalf of the Company shall constitute a waiver of such responsibility or  liability on its part.     During the course of employment or work related eng agement with the Company, you  could have access to a wide variety of data and doc uments, some of which may have  been created by you alone or as a part of a team. T he Company shall at all times retain  absolute ownership of all such content, documents a nd/or data and you shall not copy,  transmit, remove or alter such data except in pursu ance of its official duties.     You could have access to Company or customer or par tner-provided messaging  systems and tools that are provided to facilitate b usiness. These systems and tools  include e-mail, fax, instant messaging, telephones,  voice-mail, mobile devices, and  file sharing via Internet and internal networks. Al l information sent or received using  such messaging systems is the property of specific Company or customer or partner,  and may be monitored by them.    The tone and content of all messaging is expected t o be business-like and to reflect  well on the Company.     DATA PRIVACY      You shall ensure that any data collected with respe ct to any individuals including our  customers or end users shall be adequately protecte d and not disclosed without  obtaining their consents. You shall also ensure tha t all applicable regulations in the  country where you operate shall be complied with re spect to any data protection  or privacy regulations.     INTELLECTUAL PROPERTY RIGHTS      Redington respects the intellectual property rights  of others and expects others to  respect its intellectual property rights. You are r esponsible for protecting Redington’s  intellectual property rights. An important element of such protection is maintaining  the confidentiality of Redington's trade secrets an d proprietary information.  You must respect the intellectual property of Redin gton and not use or reproduce  copyrighted software, documentation, or other mater ials without written permission.  In the course of working with or for Redington, you  must not use  proprietary information, patented technology or cop yrighted software, documentation,  or other materials of third parties without authori zation.    INSIDER TRADING      In case You possess any material, non-public inform ation (“insider information”),  You shall not trade in Redington’s securities or se curities of any other company to  which such information pertains. You may not engage  in any other action or take  advantage of or pass on to others any material info rmation known as an employee of  Redington until it has been disclosed to the genera l public. These restrictions also  apply to your spouses and family members. You are e xpected to familiarize yourself  with these laws and consult qualified counsel for r elated advice.     ANTITRUST & COMPETITION LAWS      Redington is committed to do its business in a fair , transparent and ethical manner.  We outperform our competitors in a fair and honest manner without use of any illegal  or anti-competitive practices.     Antitrust or competition laws enable to protect com petition in the market and the  consumer receive its benefits. Any kind of violatio n of such laws including any unfair  or deceptive practices shall have huge ramification s including heavy penalties and  reputational risks for the Company.     You must ensure that the business is conducted in t he fair and transparent manner and  without indulging in any unfair trade practices or deceptive manner including price  fixing with competitors, boycotts, rigging. These p ractices are against the public  policy and also against Redington’s values and prin ciples.     You are also not supposed to provide any false or m isleading information about the  products which you represent in the market or makin g any untrue statements about the  products or making any claims without any facts or substance.     EXPORT CONTROL LAWS      Redington is committed to comply with all applicabl e laws and regulations including  any trade restriction or export control laws.     Employee shall note and understand that Redington d eal with products, including  hardware, software, technology, that may be subject  to USA and other government  export control regulations which restricts/regulate s export/-re-export obligations.    It shall be understood that there are restrictions on products/services transactions with  US government sanctioned parties – companies, firms  or individuals named in the  following:     1. Denied Parties List,  2. List of Specifically Designated Nationals,  3. Blocked Persons/Entity List,  4. Debarred Parties.     We shall be fully compliant with such restrictions.      We shall not service, quote or accept an order for US/(Other countries) products from  above mentioned parties.  We shall be cognizant of the fact that goods and te chnologies sold by us shall not be  used for the purpose of nuclear weapons, explosive devices, chemical or biological  weapons including key components of production of s uch weapons and for purpose of  missiles systems, to deliver weapons of mass destru ction.     BRIBERY & CORRUPTION      It is our policy to conduct all our business in an honest and ethical manner and in  compliance with all relevant laws. We take a zero-t olerance approach to all matters  involving dishonesty, bribery and corruption, lobby ing with Government officials and  are committed to act professionally, fairly and wit h integrity in all our business  dealings including any Governmental entities and re lationships wherever we operate  and implementing and enforcing effective systems to  counter dishonesty, bribery and  corruption.     We must ensure that we are in compliance with all l aws relevant to countering bribery  and corruption in all the jurisdictions in which we  operate which includes, but is not  limited to, the UAE Federal Law No. 3/1987 (as amen ded) (commonly known as the  UAE Penal Code), the US Foreign Corrupt Practices A ct, the UK Bribery Act 2010  and any and all other anti-corruption and anti-brib ery laws, regulations and resolutions  which are applicable, in force and relevant in any and all of the jurisdictions in which  we operate.     GIFTS AND HOSPITALITY      Employees are expected to adhere to the gift policy  and not to accept any gifts or  hospitality which if disclosed in public shall act as an embarrassment. Employees must be aware that it is not  prohibited to accept normal and appropriate hospita lity (given and received) to or  from third parties.     The giving or receipt of gifts is not prohibited, i f the following requirements are met:  ¬ As long as the gift is worth not more than USD 30/ -.  ¬ It is not made with the intention of influencing a  third party to obtain or retain  business or a business   __ advantage, or to reward the provision or retenti on of business or a business  advantage, or in explicit or         implicit excha nge for favours or benefits;  ¬ It complies with local law;  ¬ It is given in our name, not in your name;  ¬ It does not include cash or a cash equivalent (suc h as gift certificates or vouchers);  ¬ It is appropriate in the circumstances;  ¬ Taking into account the reason for the gift, it is  of an appropriate type and value and  given at an appropriate          time;  ¬ It is given openly, not secretly; and  ¬ Gifts should not be offered to, or accepted from, government officials or  representatives, or politicians or          political parties.     We appreciate that the practice of giving business gifts varies between countries and  regions and what may be normal and acceptable in on e region may not be in another.  The test to be applied is whether in all the circum stances the gift or hospitality is  reasonable and justifiable. The intention behind th e gift should always be considered.     REPORTING OF VIOLATIONS      You shall report any conduct, which you believe in good faith to be any actual or  potential violation of this code of conduct.     Redington has an open door policy with regard to an y such queries or report and shall  be treated with utmost confidentiality. You may rep ort any incident either to the Legal  Counsel or shall send it to whistleblowerdesk@redingtongulf.com     Alternatively, you may contact the third party whis tleblower hotline managed by  Safecall as per the below contact details:        Whistle Blower Hotline:    Alternatively, you may also reach out to Safecall, an independent reporting service  who would receive and process such feedback in a co nfidential manner.     Safecall provides a 24x7 service.  You may report a ny wrongdoing by calling them on  the numbers listed below.    S.No  Country  Calling Number   1 UAE  8000 4413376   2 KSA  800 8442067   3 Qatar  8000 250   4 Kuwait  +44 191 516 7756   5 Bahrain  8000 4264   6 Oman  800 72323   7 Egypt  0800 000 0059   8 Lebanon  +44 191 516 7756   9 Kazakhstan  +44 191 516 7756   10  Jordan  +44 191 516 7756   11  India  000 800 4401 256   12  Nigeria  +44 191 516 7764   13  Ghana  +233 201437196   14  Ivory Coast  +44 191 516 7764   15  Senegal  +221 33 825 91 13   16  Morocco  +44 191 516 7764   17  Algeria  +44 191 516 7764   18  Cameroon  +44 191 516 7764   19  Kenya  +44 191 516 7764   20  Uganda  +44 191 516 7764   21  Tanzania  +44 191 516 7764   22  Rwanda  +44 191 516 7764   23  Ethiopia  +44 191 516 7764   24  South Africa  0800 990243       The concerned employee shall also contact the vendo rs’s whistleblower hotline as  well for the brands represented by them.\""
      ]
     },
     "execution_count": 8,
     "metadata": {},
     "output_type": "execute_result"
    }
   ],
   "source": [
    "processed_text"
   ]
  },
  {
   "cell_type": "code",
   "execution_count": 9,
   "metadata": {},
   "outputs": [
    {
     "name": "stderr",
     "output_type": "stream",
     "text": [
      "/workspaces/transformer/.venv/lib/python3.11/site-packages/transformers/tokenization_utils_base.py:1601: FutureWarning: `clean_up_tokenization_spaces` was not set. It will be set to `True` by default. This behavior will be depracted in transformers v4.45, and will be then set to `False` by default. For more details check this issue: https://github.com/huggingface/transformers/issues/31884\n",
      "  warnings.warn(\n"
     ]
    }
   ],
   "source": [
    "tokenizer = AutoTokenizer.from_pretrained(\"bert-base-uncased\")  # Example using BERT\n"
   ]
  },
  {
   "cell_type": "code",
   "execution_count": 14,
   "metadata": {},
   "outputs": [],
   "source": [
    "def prepare_data(text, tokenizer, max_len=512):\n",
    "    tokens = tokenizer(text, max_length=max_len, truncation=True, padding='max_length', return_tensors='tf')\n",
    "    return tokens\n"
   ]
  },
  {
   "cell_type": "code",
   "execution_count": 11,
   "metadata": {},
   "outputs": [],
   "source": [
    "def fine_tune_transformer_on_pdf(model, pdf_text, tokenizer, epochs=3):\n",
    "    # Preprocess and tokenize the PDF text\n",
    "    tokens = prepare_data(pdf_text, tokenizer)\n",
    "    \n",
    "    # Define inputs and labels\n",
    "    inputs = tokens['input_ids']\n",
    "    labels = tokens['input_ids']  # For text generation, inputs and labels are the same\n",
    "    \n",
    "    # Compile the model with a suitable loss function and optimizer\n",
    "    model.compile(optimizer='adam', loss=loss_function)\n",
    "    \n",
    "    # Fine-tune the model\n",
    "    model.fit(inputs,  epochs=epochs) #labels,\n",
    "\n"
   ]
  },
  {
   "cell_type": "code",
   "execution_count": 12,
   "metadata": {},
   "outputs": [],
   "source": [
    "def generate_answer_from_pdf(question, model, tokenizer, max_len=512):\n",
    "    # Tokenize the question\n",
    "    question_tokens = tokenizer(question, return_tensors='tf', max_length=max_len, truncation=True, padding='max_length')\n",
    "    \n",
    "    # Generate the answer using the model\n",
    "    answer_tokens = model.generate(input_ids=question_tokens['input_ids'], max_length=max_len)\n",
    "    \n",
    "    # Decode the answer\n",
    "    answer = tokenizer.decode(answer_tokens[0], skip_special_tokens=True)\n",
    "    return answer\n"
   ]
  },
  {
   "cell_type": "code",
   "execution_count": 15,
   "metadata": {},
   "outputs": [
    {
     "name": "stdout",
     "output_type": "stream",
     "text": [
      "Epoch 1/3\n"
     ]
    },
    {
     "ename": "ValueError",
     "evalue": "Layer \"transformer\" expects 2 input(s), but it received 1 input tensors. Inputs received: [<tf.Tensor 'data:0' shape=(None, 512) dtype=int32>]",
     "output_type": "error",
     "traceback": [
      "\u001b[0;31m---------------------------------------------------------------------------\u001b[0m",
      "\u001b[0;31mValueError\u001b[0m                                Traceback (most recent call last)",
      "Cell \u001b[0;32mIn[15], line 1\u001b[0m\n\u001b[0;32m----> 1\u001b[0m \u001b[43mfine_tune_transformer_on_pdf\u001b[49m\u001b[43m(\u001b[49m\u001b[43mmodel\u001b[49m\u001b[43m,\u001b[49m\u001b[43m \u001b[49m\u001b[43mprocessed_text\u001b[49m\u001b[43m,\u001b[49m\u001b[43m \u001b[49m\u001b[43mtokenizer\u001b[49m\u001b[43m)\u001b[49m\n",
      "Cell \u001b[0;32mIn[11], line 13\u001b[0m, in \u001b[0;36mfine_tune_transformer_on_pdf\u001b[0;34m(model, pdf_text, tokenizer, epochs)\u001b[0m\n\u001b[1;32m     10\u001b[0m model\u001b[38;5;241m.\u001b[39mcompile(optimizer\u001b[38;5;241m=\u001b[39m\u001b[38;5;124m'\u001b[39m\u001b[38;5;124madam\u001b[39m\u001b[38;5;124m'\u001b[39m, loss\u001b[38;5;241m=\u001b[39mloss_function)\n\u001b[1;32m     12\u001b[0m \u001b[38;5;66;03m# Fine-tune the model\u001b[39;00m\n\u001b[0;32m---> 13\u001b[0m \u001b[43mmodel\u001b[49m\u001b[38;5;241;43m.\u001b[39;49m\u001b[43mfit\u001b[49m\u001b[43m(\u001b[49m\u001b[43minputs\u001b[49m\u001b[43m,\u001b[49m\u001b[43m  \u001b[49m\u001b[43mepochs\u001b[49m\u001b[38;5;241;43m=\u001b[39;49m\u001b[43mepochs\u001b[49m\u001b[43m)\u001b[49m\n",
      "File \u001b[0;32m/workspaces/transformer/.venv/lib/python3.11/site-packages/keras/src/utils/traceback_utils.py:122\u001b[0m, in \u001b[0;36mfilter_traceback.<locals>.error_handler\u001b[0;34m(*args, **kwargs)\u001b[0m\n\u001b[1;32m    119\u001b[0m     filtered_tb \u001b[38;5;241m=\u001b[39m _process_traceback_frames(e\u001b[38;5;241m.\u001b[39m__traceback__)\n\u001b[1;32m    120\u001b[0m     \u001b[38;5;66;03m# To get the full stack trace, call:\u001b[39;00m\n\u001b[1;32m    121\u001b[0m     \u001b[38;5;66;03m# `keras.config.disable_traceback_filtering()`\u001b[39;00m\n\u001b[0;32m--> 122\u001b[0m     \u001b[38;5;28;01mraise\u001b[39;00m e\u001b[38;5;241m.\u001b[39mwith_traceback(filtered_tb) \u001b[38;5;28;01mfrom\u001b[39;00m \u001b[38;5;28;01mNone\u001b[39;00m\n\u001b[1;32m    123\u001b[0m \u001b[38;5;28;01mfinally\u001b[39;00m:\n\u001b[1;32m    124\u001b[0m     \u001b[38;5;28;01mdel\u001b[39;00m filtered_tb\n",
      "File \u001b[0;32m/workspaces/transformer/.venv/lib/python3.11/site-packages/keras/src/layers/input_spec.py:160\u001b[0m, in \u001b[0;36massert_input_compatibility\u001b[0;34m(input_spec, inputs, layer_name)\u001b[0m\n\u001b[1;32m    158\u001b[0m inputs \u001b[38;5;241m=\u001b[39m tree\u001b[38;5;241m.\u001b[39mflatten(inputs)\n\u001b[1;32m    159\u001b[0m \u001b[38;5;28;01mif\u001b[39;00m \u001b[38;5;28mlen\u001b[39m(inputs) \u001b[38;5;241m!=\u001b[39m \u001b[38;5;28mlen\u001b[39m(input_spec):\n\u001b[0;32m--> 160\u001b[0m     \u001b[38;5;28;01mraise\u001b[39;00m \u001b[38;5;167;01mValueError\u001b[39;00m(\n\u001b[1;32m    161\u001b[0m         \u001b[38;5;124mf\u001b[39m\u001b[38;5;124m'\u001b[39m\u001b[38;5;124mLayer \u001b[39m\u001b[38;5;124m\"\u001b[39m\u001b[38;5;132;01m{\u001b[39;00mlayer_name\u001b[38;5;132;01m}\u001b[39;00m\u001b[38;5;124m\"\u001b[39m\u001b[38;5;124m expects \u001b[39m\u001b[38;5;132;01m{\u001b[39;00m\u001b[38;5;28mlen\u001b[39m(input_spec)\u001b[38;5;132;01m}\u001b[39;00m\u001b[38;5;124m input(s),\u001b[39m\u001b[38;5;124m'\u001b[39m\n\u001b[1;32m    162\u001b[0m         \u001b[38;5;124mf\u001b[39m\u001b[38;5;124m\"\u001b[39m\u001b[38;5;124m but it received \u001b[39m\u001b[38;5;132;01m{\u001b[39;00m\u001b[38;5;28mlen\u001b[39m(inputs)\u001b[38;5;132;01m}\u001b[39;00m\u001b[38;5;124m input tensors. \u001b[39m\u001b[38;5;124m\"\u001b[39m\n\u001b[1;32m    163\u001b[0m         \u001b[38;5;124mf\u001b[39m\u001b[38;5;124m\"\u001b[39m\u001b[38;5;124mInputs received: \u001b[39m\u001b[38;5;132;01m{\u001b[39;00minputs\u001b[38;5;132;01m}\u001b[39;00m\u001b[38;5;124m\"\u001b[39m\n\u001b[1;32m    164\u001b[0m     )\n\u001b[1;32m    165\u001b[0m \u001b[38;5;28;01mfor\u001b[39;00m input_index, (x, spec) \u001b[38;5;129;01min\u001b[39;00m \u001b[38;5;28menumerate\u001b[39m(\u001b[38;5;28mzip\u001b[39m(inputs, input_spec)):\n\u001b[1;32m    166\u001b[0m     \u001b[38;5;28;01mif\u001b[39;00m spec \u001b[38;5;129;01mis\u001b[39;00m \u001b[38;5;28;01mNone\u001b[39;00m:\n",
      "\u001b[0;31mValueError\u001b[0m: Layer \"transformer\" expects 2 input(s), but it received 1 input tensors. Inputs received: [<tf.Tensor 'data:0' shape=(None, 512) dtype=int32>]"
     ]
    }
   ],
   "source": [
    "fine_tune_transformer_on_pdf(model, processed_text, tokenizer)"
   ]
  },
  {
   "cell_type": "code",
   "execution_count": 16,
   "metadata": {},
   "outputs": [],
   "source": [
    "tokens = prepare_data(pdf_text, tokenizer)"
   ]
  },
  {
   "cell_type": "code",
   "execution_count": 17,
   "metadata": {},
   "outputs": [],
   "source": [
    "inputs = tokens['input_ids']\n",
    "labels = tokens['input_ids']  # For text generation, inputs and labels are the same"
   ]
  },
  {
   "cell_type": "code",
   "execution_count": 18,
   "metadata": {},
   "outputs": [],
   "source": [
    "model.compile(optimizer='adam', loss=loss_function)"
   ]
  },
  {
   "cell_type": "code",
   "execution_count": 21,
   "metadata": {},
   "outputs": [
    {
     "name": "stdout",
     "output_type": "stream",
     "text": [
      "Epoch 1/3\n"
     ]
    },
    {
     "ename": "ValueError",
     "evalue": "Layer \"transformer\" expects 2 input(s), but it received 1 input tensors. Inputs received: [<tf.Tensor 'data:0' shape=(None, 512) dtype=int32>]",
     "output_type": "error",
     "traceback": [
      "\u001b[0;31m---------------------------------------------------------------------------\u001b[0m",
      "\u001b[0;31mValueError\u001b[0m                                Traceback (most recent call last)",
      "Cell \u001b[0;32mIn[21], line 1\u001b[0m\n\u001b[0;32m----> 1\u001b[0m \u001b[43mmodel\u001b[49m\u001b[38;5;241;43m.\u001b[39;49m\u001b[43mfit\u001b[49m\u001b[43m(\u001b[49m\u001b[43minputs\u001b[49m\u001b[43m,\u001b[49m\u001b[43m \u001b[49m\u001b[43mepochs\u001b[49m\u001b[38;5;241;43m=\u001b[39;49m\u001b[38;5;241;43m3\u001b[39;49m\u001b[43m)\u001b[49m \u001b[38;5;66;03m#\u001b[39;00m\n",
      "File \u001b[0;32m/workspaces/transformer/.venv/lib/python3.11/site-packages/keras/src/utils/traceback_utils.py:122\u001b[0m, in \u001b[0;36mfilter_traceback.<locals>.error_handler\u001b[0;34m(*args, **kwargs)\u001b[0m\n\u001b[1;32m    119\u001b[0m     filtered_tb \u001b[38;5;241m=\u001b[39m _process_traceback_frames(e\u001b[38;5;241m.\u001b[39m__traceback__)\n\u001b[1;32m    120\u001b[0m     \u001b[38;5;66;03m# To get the full stack trace, call:\u001b[39;00m\n\u001b[1;32m    121\u001b[0m     \u001b[38;5;66;03m# `keras.config.disable_traceback_filtering()`\u001b[39;00m\n\u001b[0;32m--> 122\u001b[0m     \u001b[38;5;28;01mraise\u001b[39;00m e\u001b[38;5;241m.\u001b[39mwith_traceback(filtered_tb) \u001b[38;5;28;01mfrom\u001b[39;00m \u001b[38;5;28;01mNone\u001b[39;00m\n\u001b[1;32m    123\u001b[0m \u001b[38;5;28;01mfinally\u001b[39;00m:\n\u001b[1;32m    124\u001b[0m     \u001b[38;5;28;01mdel\u001b[39;00m filtered_tb\n",
      "File \u001b[0;32m/workspaces/transformer/.venv/lib/python3.11/site-packages/keras/src/layers/input_spec.py:160\u001b[0m, in \u001b[0;36massert_input_compatibility\u001b[0;34m(input_spec, inputs, layer_name)\u001b[0m\n\u001b[1;32m    158\u001b[0m inputs \u001b[38;5;241m=\u001b[39m tree\u001b[38;5;241m.\u001b[39mflatten(inputs)\n\u001b[1;32m    159\u001b[0m \u001b[38;5;28;01mif\u001b[39;00m \u001b[38;5;28mlen\u001b[39m(inputs) \u001b[38;5;241m!=\u001b[39m \u001b[38;5;28mlen\u001b[39m(input_spec):\n\u001b[0;32m--> 160\u001b[0m     \u001b[38;5;28;01mraise\u001b[39;00m \u001b[38;5;167;01mValueError\u001b[39;00m(\n\u001b[1;32m    161\u001b[0m         \u001b[38;5;124mf\u001b[39m\u001b[38;5;124m'\u001b[39m\u001b[38;5;124mLayer \u001b[39m\u001b[38;5;124m\"\u001b[39m\u001b[38;5;132;01m{\u001b[39;00mlayer_name\u001b[38;5;132;01m}\u001b[39;00m\u001b[38;5;124m\"\u001b[39m\u001b[38;5;124m expects \u001b[39m\u001b[38;5;132;01m{\u001b[39;00m\u001b[38;5;28mlen\u001b[39m(input_spec)\u001b[38;5;132;01m}\u001b[39;00m\u001b[38;5;124m input(s),\u001b[39m\u001b[38;5;124m'\u001b[39m\n\u001b[1;32m    162\u001b[0m         \u001b[38;5;124mf\u001b[39m\u001b[38;5;124m\"\u001b[39m\u001b[38;5;124m but it received \u001b[39m\u001b[38;5;132;01m{\u001b[39;00m\u001b[38;5;28mlen\u001b[39m(inputs)\u001b[38;5;132;01m}\u001b[39;00m\u001b[38;5;124m input tensors. \u001b[39m\u001b[38;5;124m\"\u001b[39m\n\u001b[1;32m    163\u001b[0m         \u001b[38;5;124mf\u001b[39m\u001b[38;5;124m\"\u001b[39m\u001b[38;5;124mInputs received: \u001b[39m\u001b[38;5;132;01m{\u001b[39;00minputs\u001b[38;5;132;01m}\u001b[39;00m\u001b[38;5;124m\"\u001b[39m\n\u001b[1;32m    164\u001b[0m     )\n\u001b[1;32m    165\u001b[0m \u001b[38;5;28;01mfor\u001b[39;00m input_index, (x, spec) \u001b[38;5;129;01min\u001b[39;00m \u001b[38;5;28menumerate\u001b[39m(\u001b[38;5;28mzip\u001b[39m(inputs, input_spec)):\n\u001b[1;32m    166\u001b[0m     \u001b[38;5;28;01mif\u001b[39;00m spec \u001b[38;5;129;01mis\u001b[39;00m \u001b[38;5;28;01mNone\u001b[39;00m:\n",
      "\u001b[0;31mValueError\u001b[0m: Layer \"transformer\" expects 2 input(s), but it received 1 input tensors. Inputs received: [<tf.Tensor 'data:0' shape=(None, 512) dtype=int32>]"
     ]
    }
   ],
   "source": [
    " model.fit(inputs, labels, epochs=3) #"
   ]
  },
  {
   "cell_type": "code",
   "execution_count": 27,
   "metadata": {},
   "outputs": [
    {
     "data": {
      "text/plain": [
       "<tf.Tensor: shape=(512,), dtype=int32, numpy=\n",
       "array([  101,  2417,  7853,  1006,  2089,  2022,  3615,  2004,  2194,\n",
       "        1007,  7164,  1999, 16987,  1010, 12962,  6204,  1010, 16718,\n",
       "        1004, 11109,  2096,  9099, 18908,  2075,  2007,  2035,  2358,\n",
       "        4817, 15501, 11614,  2545,  1999, 14570,  2075,  2049,  4432,\n",
       "        1998, 11100,  1012,  2023,  6254,  4751,  1013, 27171,  9686,\n",
       "        2015,  4372, 20925,  5918,  2029,  2035,  2256,  5126,  2024,\n",
       "        3517,  2000,  2022, 24577,  2007,  2012,  2035,  2335,  1999,\n",
       "        2035, 24069,  2007,  2151,  1997,  2256,  5826,  1010,  2231,\n",
       "        2030,  2151,  2648,  6736,  2019,  1040,  2306,  1996,  2194,\n",
       "        1012,  1996,  3642,  1997,  6204,  4618,  2022,  8031,  2005,\n",
       "        2035, 12666, 25212,  2015,  1006,  2089,  2022,  3615,  2004,\n",
       "        2017,  1007,  1999,  2049, 24069,  2007,  2503,  2030,  2648,\n",
       "        1996,  3029,  1012,  1037,  2222,  4986,  5126,  2024,  2036,\n",
       "        3517,  2000, 11113,  5178,  2011,  1996, 21431,  3642,  1997,\n",
       "        6204,  2005,  1996,  9639,  3421,  2011,  2068,  1012, 16165,\n",
       "        6204,  3647,  1998,  7965,  2147,  4044,  2417,  7853,  2003,\n",
       "        5462,  2000,  3073,  2169,  1998,  2296,  7861, 20228,  6977,\n",
       "        4402,  1037,  3647,  4044,  2000,  2147,  1998,  2031,  1037,\n",
       "        5717, 13986,  3921,  2875,  2151,  2785,  1997, 16165,  4808,\n",
       "        1012,  2057,  5987,  2035,  5126,  2000,  7438,  2037,  8628,\n",
       "        2007, 13372,  1010,  2658,  2964,  1998,  4847,  1012,  2169,\n",
       "        7904,  2442,  3582,  2035,  3808,  5009,  3210,  2004,  2089,\n",
       "        2022, 16250,  1998,  3189,  2151, 25135,  3785,  2030, 13436,\n",
       "        1012,  2151,  4490,  2030,  8767,  1997,  4808,  2875,  2178,\n",
       "        2711,  2030,  2194,  3200,  2442,  2022,  2988, 13364,  2000,\n",
       "        1996,  2529,  4219,  1013,  3447,  2533,  3202,  1012,  9098,\n",
       "        1010,  6544,  1004,  4319,  2489, 16165,  2417,  7853, 25276,\n",
       "        2015,  2000,  9098,  1010,  6544,  1998,  4319,  2489, 16165,\n",
       "        3343,  1010,  2029,  8704,  2000,  5326,  2740,  1010,  3808,\n",
       "        1998,  2092,  1011,  2108,  1997,  2256,  7861,  2361,  8840,\n",
       "        6672,  2229,  1012,  5126,  2024,  3517,  2000, 11113,  5178,\n",
       "        2011,  1996,  2168,  2012,  2035,  2335,  1999,  1996, 16165,\n",
       "        1012,  1999,  2553,  2019,  7904,  2052,  2215,  2000,  5610,\n",
       "       15001,  1010,  2002,  1013,  2016,  2323,  2069,  2224,  4351,\n",
       "        7254,  2752,  2008,  2194,  2030,  2311,  2968,  1010,  2012,\n",
       "        2049, 19258,  1010,  2038,  4540, 10665,  3968,  2004,  2107,\n",
       "        1012,  5126,  2024,  9975, 10890,  2013, 15077,  1010,  1039,\n",
       "       12098,  2854,  2075,  2030, 20083,  4319,  1010,  6544,  2030,\n",
       "        2151,  2046,  9048,  9336,  2102,  9415,  2076,  2551,  2847,\n",
       "        1998,  2012,  2151,  2051,  1999,  1996,  2194, 10345,  2030,\n",
       "        2648,  1996,  2194,  2012,  2035,  2051,  1055,  2096,  9283,\n",
       "        2449,  2006,  6852,  1997,  1996,  2194,  1012,  2035,  5126,\n",
       "        2551,  2030,  5873,  2151,  7396,  8840, 11266,  2072,  2006,\n",
       "        2015,  2442,  9975,  3582,  1996,  7396,  1521,  1055,  2511,\n",
       "        6043, 20246,  2000,  1996,  2682,  2056,  1055,  1057,  2497,\n",
       "       20614,  1012,  1999,  2553,  1997,  2151, 11371,  1997,  1996,\n",
       "        2682,  1010,  1996,  7904,  4618,  2022,  3395,  2000,  9384,\n",
       "       17972,  2895,  2164, 18287,  1997,  1996,  7861, 20228,  6977,\n",
       "        3672,  1012,  4377,  3642,  2057,  5987,  1996,  5126,  2000,\n",
       "        2022,  1999,  5337,  2015,  2096,  2012,  2618,  1050,  4667,\n",
       "        2436,  2030,  2151,  6295, 16726,  1996,  7904,  2003,  5052,\n",
       "        1996,  2194,  1012,  1055, 20481, 10017,  2015,  2024,  3039,\n",
       "        2069,  2076,  2197,  2154,  1997,  1996,  2733,  1041,  1012,\n",
       "        1043,  1012,  9432,  2073,  1996,  5353,  2003,  2006,  5958,\n",
       "        1998,  5095,  1012,  4189,  6107,  6078,  1998,  4424, 16011,\n",
       "        2417,  7853,  6078,  5020,  4495,  1004,  1037,  5717,  2000,\n",
       "        2571,  2743,  3401,  3921,  2006,  2151,  2785,   102],\n",
       "      dtype=int32)>"
      ]
     },
     "execution_count": 27,
     "metadata": {},
     "output_type": "execute_result"
    }
   ],
   "source": [
    "inputs[0]"
   ]
  },
  {
   "cell_type": "code",
   "execution_count": 28,
   "metadata": {},
   "outputs": [
    {
     "ename": "TypeError",
     "evalue": "'tensorflow.python.framework.ops.EagerTensor' object does not support item assignment",
     "output_type": "error",
     "traceback": [
      "\u001b[0;31m---------------------------------------------------------------------------\u001b[0m",
      "\u001b[0;31mTypeError\u001b[0m                                 Traceback (most recent call last)",
      "Cell \u001b[0;32mIn[28], line 1\u001b[0m\n\u001b[0;32m----> 1\u001b[0m \u001b[43minputs\u001b[49m\u001b[43m[\u001b[49m\u001b[38;5;241;43m1\u001b[39;49m\u001b[43m]\u001b[49m \u001b[38;5;241m=\u001b[39m inputs[\u001b[38;5;241m0\u001b[39m]\n",
      "\u001b[0;31mTypeError\u001b[0m: 'tensorflow.python.framework.ops.EagerTensor' object does not support item assignment"
     ]
    }
   ],
   "source": []
  },
  {
   "cell_type": "code",
   "execution_count": null,
   "metadata": {},
   "outputs": [],
   "source": []
  }
 ],
 "metadata": {
  "kernelspec": {
   "display_name": ".venv",
   "language": "python",
   "name": "python3"
  },
  "language_info": {
   "codemirror_mode": {
    "name": "ipython",
    "version": 3
   },
   "file_extension": ".py",
   "mimetype": "text/x-python",
   "name": "python",
   "nbconvert_exporter": "python",
   "pygments_lexer": "ipython3",
   "version": "3.11.9"
  }
 },
 "nbformat": 4,
 "nbformat_minor": 2
}
